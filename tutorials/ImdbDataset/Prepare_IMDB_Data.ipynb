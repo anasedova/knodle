{
 "cells": [
  {
   "cell_type": "markdown",
   "metadata": {},
   "source": [
    "# IMDB Dataset - Create Weak Supervision Sources\n",
    "\n",
    "This notebook shows how to create labeling functions on the IMDB Movie Review dataset.\n",
    "\n",
    "This dataset has gold labels. These labels are just there for evaluation purposes. The idea of using weak supervision and especially knodle is that you don't have a dataset which is purely labeled with strong supervision (manual) and instead label it with weak supervision.\n",
    "\n",
    "First, we load the dataset from kaggle. Then, we will look at certain keywords within both sentiments and find good matching keywords which will act as a weak supervision source. Finally, the keywords on a basic majority vote model."
   ]
  },
  {
   "cell_type": "markdown",
   "metadata": {},
   "source": [
    "## Imports\n",
    "\n",
    "Lets make some basic imports "
   ]
  },
  {
   "cell_type": "code",
   "execution_count": 253,
   "metadata": {},
   "outputs": [],
   "source": [
    "import pandas as pd \n",
    "from sklearn.feature_extraction.text import ENGLISH_STOP_WORDS, CountVectorizer\n",
    "from bs4 import BeautifulSoup\n",
    "from snorkel.labeling import LabelingFunction, PandasLFApplier, filter_unlabeled_dataframe, LFAnalysis\n",
    "from snorkel.labeling.model import MajorityLabelVoter, LabelModel\n",
    "import numpy as np \n",
    "from tqdm import tqdm"
   ]
  },
  {
   "cell_type": "code",
   "execution_count": 228,
   "metadata": {},
   "outputs": [
    {
     "name": "stderr",
     "output_type": "stream",
     "text": [
      "/Users/sandro/.pyenv/versions/3.7.1/envs/imdbTut/lib/python3.7/site-packages/tqdm/std.py:703: FutureWarning: The Panel class is removed from pandas. Accessing it from the top-level namespace will also be removed in the next version\n",
      "  from pandas import Panel\n",
      "/Users/sandro/.pyenv/versions/3.7.1/envs/imdbTut/lib/python3.7/site-packages/ipykernel_launcher.py:3: FutureWarning: Passing a negative integer is deprecated in version 1.0 and will not be supported in future version. Instead, use None to not limit the column width.\n",
      "  This is separate from the ipykernel package so we can avoid doing imports until\n"
     ]
    }
   ],
   "source": [
    "# Init\n",
    "tqdm.pandas()\n",
    "pd.set_option('display.max_colwidth', -1)"
   ]
  },
  {
   "cell_type": "code",
   "execution_count": 198,
   "metadata": {},
   "outputs": [],
   "source": [
    "# Constants\n",
    "POSITIVE = 1\n",
    "NEGATIVE = 0\n",
    "ABSTAIN = -1\n",
    "COLUMN_WITH_TEXT = \"reviews_preprocessed\""
   ]
  },
  {
   "cell_type": "markdown",
   "metadata": {},
   "source": [
    "## Download the raw dataset\n",
    "\n",
    "Now we download the dataset we need. For that you need to have the kaggle-cli installed and configured with your API key. Please have a look at the official [documentation](https://github.com/Kaggle/kaggle-api) for further instructions."
   ]
  },
  {
   "cell_type": "code",
   "execution_count": 2,
   "metadata": {},
   "outputs": [
    {
     "name": "stdout",
     "output_type": "stream",
     "text": [
      "/Users/sandro/.pyenv/versions/3.7.1/envs/imdbTut/lib/python3.7/site-packages/requests/__init__.py:91: RequestsDependencyWarning: urllib3 (1.26.0) or chardet (3.0.4) doesn't match a supported version!\n",
      "  RequestsDependencyWarning)\n",
      "Warning: Your Kaggle API key is readable by other users on this system! To fix this, you can run 'chmod 600 /Users/sandro/.kaggle/kaggle.json'\n",
      "Downloading imdb-dataset-of-50k-movie-reviews.zip to /Users/sandro/repo/knodle/tutorials/ImdbDataset\n",
      " 97%|████████████████████████████████████▉ | 25.0M/25.7M [00:01<00:00, 24.1MB/s]\n",
      "100%|██████████████████████████████████████| 25.7M/25.7M [00:01<00:00, 23.4MB/s]\n",
      "x IMDB Dataset.csv\n"
     ]
    }
   ],
   "source": [
    "!kaggle datasets download -d lakshmi25npathi/imdb-dataset-of-50k-movie-reviews\n",
    "!tar -xvf imdb-dataset-of-50k-movie-reviews.zip\n",
    "!rm imdb-dataset-of-50k-movie-reviews.zip"
   ]
  },
  {
   "cell_type": "markdown",
   "metadata": {},
   "source": [
    "## Preview dataset\n",
    "\n",
    "After downloading and unpacking the dataset we can have a first look at it and work with it."
   ]
  },
  {
   "cell_type": "code",
   "execution_count": 3,
   "metadata": {},
   "outputs": [],
   "source": [
    "imdb_dataset_raw = pd.read_csv('IMDB Dataset.csv')"
   ]
  },
  {
   "cell_type": "code",
   "execution_count": 4,
   "metadata": {},
   "outputs": [
    {
     "data": {
      "text/html": [
       "<div>\n",
       "<style scoped>\n",
       "    .dataframe tbody tr th:only-of-type {\n",
       "        vertical-align: middle;\n",
       "    }\n",
       "\n",
       "    .dataframe tbody tr th {\n",
       "        vertical-align: top;\n",
       "    }\n",
       "\n",
       "    .dataframe thead th {\n",
       "        text-align: right;\n",
       "    }\n",
       "</style>\n",
       "<table border=\"1\" class=\"dataframe\">\n",
       "  <thead>\n",
       "    <tr style=\"text-align: right;\">\n",
       "      <th></th>\n",
       "      <th>review</th>\n",
       "      <th>sentiment</th>\n",
       "    </tr>\n",
       "  </thead>\n",
       "  <tbody>\n",
       "    <tr>\n",
       "      <th>0</th>\n",
       "      <td>One of the other reviewers has mentioned that ...</td>\n",
       "      <td>positive</td>\n",
       "    </tr>\n",
       "    <tr>\n",
       "      <th>1</th>\n",
       "      <td>A wonderful little production. &lt;br /&gt;&lt;br /&gt;The...</td>\n",
       "      <td>positive</td>\n",
       "    </tr>\n",
       "    <tr>\n",
       "      <th>2</th>\n",
       "      <td>I thought this was a wonderful way to spend ti...</td>\n",
       "      <td>positive</td>\n",
       "    </tr>\n",
       "    <tr>\n",
       "      <th>3</th>\n",
       "      <td>Basically there's a family where a little boy ...</td>\n",
       "      <td>negative</td>\n",
       "    </tr>\n",
       "    <tr>\n",
       "      <th>4</th>\n",
       "      <td>Petter Mattei's \"Love in the Time of Money\" is...</td>\n",
       "      <td>positive</td>\n",
       "    </tr>\n",
       "  </tbody>\n",
       "</table>\n",
       "</div>"
      ],
      "text/plain": [
       "                                              review sentiment\n",
       "0  One of the other reviewers has mentioned that ...  positive\n",
       "1  A wonderful little production. <br /><br />The...  positive\n",
       "2  I thought this was a wonderful way to spend ti...  positive\n",
       "3  Basically there's a family where a little boy ...  negative\n",
       "4  Petter Mattei's \"Love in the Time of Money\" is...  positive"
      ]
     },
     "execution_count": 4,
     "metadata": {},
     "output_type": "execute_result"
    }
   ],
   "source": [
    "imdb_dataset_raw.head()"
   ]
  },
  {
   "cell_type": "code",
   "execution_count": 5,
   "metadata": {},
   "outputs": [
    {
     "data": {
      "text/html": [
       "<div>\n",
       "<style scoped>\n",
       "    .dataframe tbody tr th:only-of-type {\n",
       "        vertical-align: middle;\n",
       "    }\n",
       "\n",
       "    .dataframe tbody tr th {\n",
       "        vertical-align: top;\n",
       "    }\n",
       "\n",
       "    .dataframe thead th {\n",
       "        text-align: right;\n",
       "    }\n",
       "</style>\n",
       "<table border=\"1\" class=\"dataframe\">\n",
       "  <thead>\n",
       "    <tr style=\"text-align: right;\">\n",
       "      <th></th>\n",
       "      <th>review</th>\n",
       "    </tr>\n",
       "    <tr>\n",
       "      <th>sentiment</th>\n",
       "      <th></th>\n",
       "    </tr>\n",
       "  </thead>\n",
       "  <tbody>\n",
       "    <tr>\n",
       "      <th>negative</th>\n",
       "      <td>25000</td>\n",
       "    </tr>\n",
       "    <tr>\n",
       "      <th>positive</th>\n",
       "      <td>25000</td>\n",
       "    </tr>\n",
       "  </tbody>\n",
       "</table>\n",
       "</div>"
      ],
      "text/plain": [
       "           review\n",
       "sentiment        \n",
       "negative    25000\n",
       "positive    25000"
      ]
     },
     "execution_count": 5,
     "metadata": {},
     "output_type": "execute_result"
    }
   ],
   "source": [
    "imdb_dataset_raw.groupby('sentiment').count()\n"
   ]
  },
  {
   "cell_type": "code",
   "execution_count": 6,
   "metadata": {},
   "outputs": [
    {
     "data": {
      "text/plain": [
       "review       0\n",
       "sentiment    0\n",
       "dtype: int64"
      ]
     },
     "execution_count": 6,
     "metadata": {},
     "output_type": "execute_result"
    }
   ],
   "source": [
    "imdb_dataset_raw.isna().sum()"
   ]
  },
  {
   "cell_type": "markdown",
   "metadata": {},
   "source": [
    "## Preprocess dataset\n",
    "\n",
    "Now lets take some basic preprocessing steps"
   ]
  },
  {
   "cell_type": "markdown",
   "metadata": {},
   "source": [
    "### Remove Stopwords\n",
    "\n",
    "We begin by removing all common stop words. We use `scikit-learn`'s stopwords that we don't install to many packages."
   ]
  },
  {
   "cell_type": "code",
   "execution_count": 11,
   "metadata": {},
   "outputs": [],
   "source": [
    "imdb_dataset_raw['reviews_preprocessed'] = imdb_dataset_raw['review'].apply(\n",
    "    lambda x: ' '.join([word for word in x.split() if word not in (ENGLISH_STOP_WORDS)]))"
   ]
  },
  {
   "cell_type": "code",
   "execution_count": 12,
   "metadata": {},
   "outputs": [
    {
     "data": {
      "text/html": [
       "<div>\n",
       "<style scoped>\n",
       "    .dataframe tbody tr th:only-of-type {\n",
       "        vertical-align: middle;\n",
       "    }\n",
       "\n",
       "    .dataframe tbody tr th {\n",
       "        vertical-align: top;\n",
       "    }\n",
       "\n",
       "    .dataframe thead th {\n",
       "        text-align: right;\n",
       "    }\n",
       "</style>\n",
       "<table border=\"1\" class=\"dataframe\">\n",
       "  <thead>\n",
       "    <tr style=\"text-align: right;\">\n",
       "      <th></th>\n",
       "      <th>review</th>\n",
       "      <th>sentiment</th>\n",
       "      <th>reviews_wo_stopwords</th>\n",
       "      <th>reviews_preprocessed</th>\n",
       "    </tr>\n",
       "  </thead>\n",
       "  <tbody>\n",
       "    <tr>\n",
       "      <th>0</th>\n",
       "      <td>One of the other reviewers has mentioned that ...</td>\n",
       "      <td>positive</td>\n",
       "      <td>One reviewers mentioned watching just 1 Oz epi...</td>\n",
       "      <td>One reviewers mentioned watching just 1 Oz epi...</td>\n",
       "    </tr>\n",
       "    <tr>\n",
       "      <th>1</th>\n",
       "      <td>A wonderful little production. &lt;br /&gt;&lt;br /&gt;The...</td>\n",
       "      <td>positive</td>\n",
       "      <td>A wonderful little production. &lt;br /&gt;&lt;br /&gt;The...</td>\n",
       "      <td>A wonderful little production. &lt;br /&gt;&lt;br /&gt;The...</td>\n",
       "    </tr>\n",
       "    <tr>\n",
       "      <th>2</th>\n",
       "      <td>I thought this was a wonderful way to spend ti...</td>\n",
       "      <td>positive</td>\n",
       "      <td>I thought wonderful way spend time hot summer ...</td>\n",
       "      <td>I thought wonderful way spend time hot summer ...</td>\n",
       "    </tr>\n",
       "    <tr>\n",
       "      <th>3</th>\n",
       "      <td>Basically there's a family where a little boy ...</td>\n",
       "      <td>negative</td>\n",
       "      <td>Basically there's family little boy (Jake) thi...</td>\n",
       "      <td>Basically there's family little boy (Jake) thi...</td>\n",
       "    </tr>\n",
       "    <tr>\n",
       "      <th>4</th>\n",
       "      <td>Petter Mattei's \"Love in the Time of Money\" is...</td>\n",
       "      <td>positive</td>\n",
       "      <td>Petter Mattei's \"Love Time Money\" visually stu...</td>\n",
       "      <td>Petter Mattei's \"Love Time Money\" visually stu...</td>\n",
       "    </tr>\n",
       "  </tbody>\n",
       "</table>\n",
       "</div>"
      ],
      "text/plain": [
       "                                              review sentiment  \\\n",
       "0  One of the other reviewers has mentioned that ...  positive   \n",
       "1  A wonderful little production. <br /><br />The...  positive   \n",
       "2  I thought this was a wonderful way to spend ti...  positive   \n",
       "3  Basically there's a family where a little boy ...  negative   \n",
       "4  Petter Mattei's \"Love in the Time of Money\" is...  positive   \n",
       "\n",
       "                                reviews_wo_stopwords  \\\n",
       "0  One reviewers mentioned watching just 1 Oz epi...   \n",
       "1  A wonderful little production. <br /><br />The...   \n",
       "2  I thought wonderful way spend time hot summer ...   \n",
       "3  Basically there's family little boy (Jake) thi...   \n",
       "4  Petter Mattei's \"Love Time Money\" visually stu...   \n",
       "\n",
       "                                reviews_preprocessed  \n",
       "0  One reviewers mentioned watching just 1 Oz epi...  \n",
       "1  A wonderful little production. <br /><br />The...  \n",
       "2  I thought wonderful way spend time hot summer ...  \n",
       "3  Basically there's family little boy (Jake) thi...  \n",
       "4  Petter Mattei's \"Love Time Money\" visually stu...  "
      ]
     },
     "execution_count": 12,
     "metadata": {},
     "output_type": "execute_result"
    }
   ],
   "source": [
    "imdb_dataset_raw.head()"
   ]
  },
  {
   "cell_type": "markdown",
   "metadata": {},
   "source": [
    "### Remove HTML Tags\n",
    "\n",
    "The dataset contains many HTML tags. We'll remove them"
   ]
  },
  {
   "cell_type": "code",
   "execution_count": 13,
   "metadata": {},
   "outputs": [],
   "source": [
    "def strip_html(text):\n",
    "    soup = BeautifulSoup(text, \"html.parser\")\n",
    "    return soup.get_text()\n",
    "\n",
    "imdb_dataset_raw['reviews_preprocessed'] = imdb_dataset_raw['reviews_preprocessed'].apply(\n",
    "    lambda x: strip_html(x))"
   ]
  },
  {
   "cell_type": "code",
   "execution_count": 15,
   "metadata": {},
   "outputs": [
    {
     "data": {
      "text/plain": [
       "0    One reviewers mentioned watching just 1 Oz epi...\n",
       "1    A wonderful little production. The filming tec...\n",
       "2    I thought wonderful way spend time hot summer ...\n",
       "3    Basically there's family little boy (Jake) thi...\n",
       "4    Petter Mattei's \"Love Time Money\" visually stu...\n",
       "Name: reviews_preprocessed, dtype: object"
      ]
     },
     "execution_count": 15,
     "metadata": {},
     "output_type": "execute_result"
    }
   ],
   "source": [
    "imdb_dataset_raw['reviews_preprocessed'].head()"
   ]
  },
  {
   "cell_type": "markdown",
   "metadata": {},
   "source": [
    "## Count Words\n",
    "\n",
    "Now we want to count the words per sentiment to find good matching keywords.\n",
    "We split the dataset first into positive and negative reviews and then count the words per sentiment"
   ]
  },
  {
   "cell_type": "code",
   "execution_count": 19,
   "metadata": {},
   "outputs": [],
   "source": [
    "positive_reviews = \\\n",
    "    imdb_dataset_raw.loc[imdb_dataset_raw.sentiment == 'positive', ['reviews_preprocessed', 'sentiment']]"
   ]
  },
  {
   "cell_type": "code",
   "execution_count": 20,
   "metadata": {},
   "outputs": [],
   "source": [
    "negative_reviews = \\\n",
    "    imdb_dataset_raw.loc[imdb_dataset_raw.sentiment == 'negative', ['reviews_preprocessed', 'sentiment']]"
   ]
  },
  {
   "cell_type": "code",
   "execution_count": 59,
   "metadata": {},
   "outputs": [],
   "source": [
    "def get_word_count_list(reviews: pd.DataFrame, min_df: int = 10) -> pd.DataFrame:\n",
    "    vectorizer = CountVectorizer(min_df=min_df)\n",
    "    X = vectorizer.fit_transform(reviews.reviews_preprocessed.values)\n",
    "    word_list = vectorizer.get_feature_names()\n",
    "    count_list = X.toarray().sum(axis=0)\n",
    "    word_count = pd.DataFrame(dict(zip(word_list, count_list)), index=['count']).transpose().sort_values('count', ascending=False)\n",
    "    # Remove stop words again\n",
    "    word_count = word_count.loc[~word_count.index.isin(ENGLISH_STOP_WORDS)]\n",
    "    return word_count"
   ]
  },
  {
   "cell_type": "markdown",
   "metadata": {},
   "source": [
    "### Positive Reviews\n",
    "\n",
    "First lets look at some positive reviews and find good keywords which maybe describe them."
   ]
  },
  {
   "cell_type": "code",
   "execution_count": 63,
   "metadata": {},
   "outputs": [],
   "source": [
    "word_count_positive = get_word_count_list(positive_reviews, min_df=100)"
   ]
  },
  {
   "cell_type": "code",
   "execution_count": 64,
   "metadata": {},
   "outputs": [
    {
     "data": {
      "text/html": [
       "<div>\n",
       "<style scoped>\n",
       "    .dataframe tbody tr th:only-of-type {\n",
       "        vertical-align: middle;\n",
       "    }\n",
       "\n",
       "    .dataframe tbody tr th {\n",
       "        vertical-align: top;\n",
       "    }\n",
       "\n",
       "    .dataframe thead th {\n",
       "        text-align: right;\n",
       "    }\n",
       "</style>\n",
       "<table border=\"1\" class=\"dataframe\">\n",
       "  <thead>\n",
       "    <tr style=\"text-align: right;\">\n",
       "      <th></th>\n",
       "      <th>count</th>\n",
       "    </tr>\n",
       "  </thead>\n",
       "  <tbody>\n",
       "    <tr>\n",
       "      <th>count</th>\n",
       "      <td>3627.000000</td>\n",
       "    </tr>\n",
       "    <tr>\n",
       "      <th>mean</th>\n",
       "      <td>557.271574</td>\n",
       "    </tr>\n",
       "    <tr>\n",
       "      <th>std</th>\n",
       "      <td>1355.342072</td>\n",
       "    </tr>\n",
       "    <tr>\n",
       "      <th>min</th>\n",
       "      <td>100.000000</td>\n",
       "    </tr>\n",
       "    <tr>\n",
       "      <th>25%</th>\n",
       "      <td>159.000000</td>\n",
       "    </tr>\n",
       "    <tr>\n",
       "      <th>50%</th>\n",
       "      <td>253.000000</td>\n",
       "    </tr>\n",
       "    <tr>\n",
       "      <th>75%</th>\n",
       "      <td>507.000000</td>\n",
       "    </tr>\n",
       "    <tr>\n",
       "      <th>max</th>\n",
       "      <td>42093.000000</td>\n",
       "    </tr>\n",
       "  </tbody>\n",
       "</table>\n",
       "</div>"
      ],
      "text/plain": [
       "              count\n",
       "count   3627.000000\n",
       "mean     557.271574\n",
       "std     1355.342072\n",
       "min      100.000000\n",
       "25%      159.000000\n",
       "50%      253.000000\n",
       "75%      507.000000\n",
       "max    42093.000000"
      ]
     },
     "execution_count": 64,
     "metadata": {},
     "output_type": "execute_result"
    }
   ],
   "source": [
    "word_count_positive.describe()"
   ]
  },
  {
   "cell_type": "code",
   "execution_count": 65,
   "metadata": {},
   "outputs": [],
   "source": [
    "# All words in quantile 95 and higher\n",
    "q95_positive_words =  word_count_positive.loc[word_count_positive['count'] > word_count_positive.quantile(0.95)['count']]"
   ]
  },
  {
   "cell_type": "code",
   "execution_count": 70,
   "metadata": {},
   "outputs": [
    {
     "data": {
      "text/plain": [
       "array(['film', 'movie', 'like', 'good', 'just', 'great', 'story', 'time',\n",
       "       'really', 'people', 'love', 'best', 'life', 'way', 'films',\n",
       "       'think', 'characters', 'don', 'movies', 'character', 'seen', 'man',\n",
       "       'watch', 'make', 'little', 'does', 'know', 'did', 'years', 'end',\n",
       "       'scene', 'real', 'scenes', 'say', 'acting', 'plot', 'world',\n",
       "       'makes', 'better', 'new', 've', '10', 'young', 'work', 'old',\n",
       "       'lot', 'quite', 'cast', 'funny', 'series', 'director', 'actors',\n",
       "       'music', 'role', 'watching', 'look', 'bad', 'doesn', 'family',\n",
       "       'performance', 'things', 'comedy', 'times', 'going', 'big', 'saw',\n",
       "       'long', 'thing', 'actually', 'excellent', 'didn', 'bit', 'fun',\n",
       "       'right', 'action', 'thought', 'fact', 'feel', 'want', 'come',\n",
       "       'played', 'especially', 'got', 'war', 'horror', 'beautiful', 'day',\n",
       "       'pretty', 'dvd', 'different', 'shows', 'gets', 'tv', 'interesting',\n",
       "       'true', 'job', 'll', 'woman', 'probably', 'far', 'wonderful',\n",
       "       'course', 'original', 'girl', 'plays', 'away', 'point', 'screen',\n",
       "       'isn', 'play', 'john', 'making', 'later', 'american', 'set',\n",
       "       'hard', 'sure', 'worth', 'kind', 'year', 'perfect', 'having',\n",
       "       'place', 'takes', 'father', 'comes', 'ending', 'performances',\n",
       "       'classic', 'wife', 'actor', 'guy', 'goes', 'loved', 'watched',\n",
       "       'seeing', 'enjoy', 'night', 'death', 'version', 'high', 'nice',\n",
       "       'main', 'men', 'star', 'black', 'looking', 'believe', 'short',\n",
       "       'book', 'home', 'mind', 'recommend', 'definitely', 'sense',\n",
       "       'human', 'audience', 'fan', 'truly', 'house', 'amazing', 'second',\n",
       "       'gives', 'hollywood', 'friends', 'episode', 'mother', 'let',\n",
       "       'said', 'help', 'special', 'trying', 'used', 'left', 'brilliant',\n",
       "       'remember', 'today', 'small', 'maybe', 'moments', 'favorite',\n",
       "       'script'], dtype=object)"
      ]
     },
     "execution_count": 70,
     "metadata": {},
     "output_type": "execute_result"
    }
   ],
   "source": [
    "q95_positive_words.index.values"
   ]
  },
  {
   "cell_type": "code",
   "execution_count": 71,
   "metadata": {},
   "outputs": [],
   "source": [
    "# Manual create list with keywords\n",
    "positive_keywords = [\n",
    "    'like','good','great','love', 'best', 'funny','excellent','fun','beautiful','interesting','wonderful',\n",
    "    'original','perfect','classic','loved','recommend','amazing','favorite'\n",
    "]"
   ]
  },
  {
   "cell_type": "markdown",
   "metadata": {},
   "source": [
    "### Negative Reviews\n",
    "\n",
    "Lets do the same process with negative reviews and find some keywords which describe bad movie reviews."
   ]
  },
  {
   "cell_type": "code",
   "execution_count": 72,
   "metadata": {},
   "outputs": [],
   "source": [
    "word_count_negative = get_word_count_list(negative_reviews, min_df=100)"
   ]
  },
  {
   "cell_type": "code",
   "execution_count": 73,
   "metadata": {},
   "outputs": [
    {
     "data": {
      "text/html": [
       "<div>\n",
       "<style scoped>\n",
       "    .dataframe tbody tr th:only-of-type {\n",
       "        vertical-align: middle;\n",
       "    }\n",
       "\n",
       "    .dataframe tbody tr th {\n",
       "        vertical-align: top;\n",
       "    }\n",
       "\n",
       "    .dataframe thead th {\n",
       "        text-align: right;\n",
       "    }\n",
       "</style>\n",
       "<table border=\"1\" class=\"dataframe\">\n",
       "  <thead>\n",
       "    <tr style=\"text-align: right;\">\n",
       "      <th></th>\n",
       "      <th>count</th>\n",
       "    </tr>\n",
       "  </thead>\n",
       "  <tbody>\n",
       "    <tr>\n",
       "      <th>count</th>\n",
       "      <td>3356.000000</td>\n",
       "    </tr>\n",
       "    <tr>\n",
       "      <th>mean</th>\n",
       "      <td>593.115018</td>\n",
       "    </tr>\n",
       "    <tr>\n",
       "      <th>std</th>\n",
       "      <td>1543.380762</td>\n",
       "    </tr>\n",
       "    <tr>\n",
       "      <th>min</th>\n",
       "      <td>100.000000</td>\n",
       "    </tr>\n",
       "    <tr>\n",
       "      <th>25%</th>\n",
       "      <td>160.000000</td>\n",
       "    </tr>\n",
       "    <tr>\n",
       "      <th>50%</th>\n",
       "      <td>252.000000</td>\n",
       "    </tr>\n",
       "    <tr>\n",
       "      <th>75%</th>\n",
       "      <td>525.000000</td>\n",
       "    </tr>\n",
       "    <tr>\n",
       "      <th>max</th>\n",
       "      <td>50090.000000</td>\n",
       "    </tr>\n",
       "  </tbody>\n",
       "</table>\n",
       "</div>"
      ],
      "text/plain": [
       "              count\n",
       "count   3356.000000\n",
       "mean     593.115018\n",
       "std     1543.380762\n",
       "min      100.000000\n",
       "25%      160.000000\n",
       "50%      252.000000\n",
       "75%      525.000000\n",
       "max    50090.000000"
      ]
     },
     "execution_count": 73,
     "metadata": {},
     "output_type": "execute_result"
    }
   ],
   "source": [
    "word_count_negative.describe()"
   ]
  },
  {
   "cell_type": "code",
   "execution_count": 74,
   "metadata": {},
   "outputs": [],
   "source": [
    "# All words in quantile 95 and higher\n",
    "q95_negative_words = word_count_negative.loc[\n",
    "    word_count_negative['count'] > word_count_negative.quantile(0.95)['count']]"
   ]
  },
  {
   "cell_type": "code",
   "execution_count": 76,
   "metadata": {},
   "outputs": [
    {
     "data": {
      "text/plain": [
       "array(['movie', 'film', 'like', 'just', 'good', 'bad', 'time', 'really',\n",
       "       'don', 'story', 'people', 'make', 'movies', 'plot', 'acting',\n",
       "       'way', 'characters', 'watch', 'think', 'did', 'character', 'know',\n",
       "       'better', 'seen', 'films', 'little', 'say', 'scene', 'thing',\n",
       "       'end', 'does', 'scenes', 've', 'didn', 'watching', 'great',\n",
       "       'doesn', 'actually', 'man', 'actors', 'worst', 'director', 'life',\n",
       "       'funny', 'going', 'look', 'love', 'real', 'minutes', 'old',\n",
       "       'pretty', 'horror', 'want', 'best', 'script', 'guy', 'work', '10',\n",
       "       'got', 'lot', 'isn', 'things', 'original', 'fact', 'thought',\n",
       "       'makes', 'point', 'new', 'big', 'long', 'years', 'gets', 'far',\n",
       "       'interesting', 'cast', 'making', 'right', 'action', 'come',\n",
       "       'awful', 'quite', 'money', 'll', 'kind', 'poor', 'comedy',\n",
       "       'boring', 'trying', 'reason', 'stupid', 'probably', 'looking',\n",
       "       'looks', 'instead', 'terrible', 'away', 'maybe', 'believe', 'saw',\n",
       "       'girl', 'wasn', 'effects', 'tv', 'sure', 'times', 'half', 'let',\n",
       "       'hard', 'world', 'book', 'feel', 'woman', 'bit', 'idea', 'waste',\n",
       "       'young', 'music', 'sense', 'series', 'having', 'budget', 'goes',\n",
       "       'worse', 'main', 'role', 'screen', 'completely', 'said', 'ending',\n",
       "       'low', 'comes', 'left', 'special', 'actor', 'set', 'place',\n",
       "       'watched', 'shot', 'wrong', 'audience', 'day', 'supposed',\n",
       "       'course', 'oh', 'mean', 'high', 'simply', 'family', 'camera',\n",
       "       'horrible', 'worth', 'dead', 'couldn', 'sex', 'read', 'fun',\n",
       "       'black', 'house', 'night', 'rest', 'played', 'try', 'year',\n",
       "       'american', 'line', 'video', 'used', 'production'], dtype=object)"
      ]
     },
     "execution_count": 76,
     "metadata": {},
     "output_type": "execute_result"
    }
   ],
   "source": [
    "q95_negative_words.index.values"
   ]
  },
  {
   "cell_type": "code",
   "execution_count": 77,
   "metadata": {},
   "outputs": [],
   "source": [
    "negative_keywords = [\n",
    "    'bad', 'worst','horror','awful','poor','boring','stupid','terrible','waste','worse','horrible'\n",
    "]"
   ]
  },
  {
   "cell_type": "markdown",
   "metadata": {},
   "source": [
    "## Labeling Functions\n",
    "\n",
    "Now we start to build labeling functions with Snorkel with these keywords and check the coverage.\n",
    "\n",
    "This is an iterative process of course so we surely have to add more keywords and regulary expressions ;-) "
   ]
  },
  {
   "cell_type": "code",
   "execution_count": 200,
   "metadata": {},
   "outputs": [],
   "source": [
    "def keyword_lookup(x, keyword, label):\n",
    "    return label if keyword in x[COLUMN_WITH_TEXT].lower() else ABSTAIN\n"
   ]
  },
  {
   "cell_type": "code",
   "execution_count": 201,
   "metadata": {},
   "outputs": [],
   "source": [
    "def make_keyword_lf(keyword: str, label: str) -> LabelingFunction:\n",
    "    \"\"\"\n",
    "    Creates labeling function based on keyword.\n",
    "    Args:\n",
    "        keywords:\n",
    "        label:\n",
    "\n",
    "    Returns:\n",
    "\n",
    "    \"\"\"\n",
    "    return LabelingFunction(\n",
    "        name=f\"keyword_{keyword}\",\n",
    "        f=keyword_lookup,\n",
    "        resources=dict(keyword=keyword, label=label),\n",
    "    )"
   ]
  },
  {
   "cell_type": "code",
   "execution_count": 202,
   "metadata": {},
   "outputs": [],
   "source": [
    "def create_labeling_functions(keywords: pd.DataFrame) -> np.ndarray:\n",
    "    \"\"\"\n",
    "    Create Labeling Functions based on the columns keyword and regex. Appends column lf to df.\n",
    "\n",
    "    Args:\n",
    "        keywords: DataFrame with processed keywords\n",
    "\n",
    "    Returns:\n",
    "        All labeling functions. 1d Array with shape: (number_of_lfs x 1)\n",
    "    \"\"\"\n",
    "    keywords = keywords.assign(lf=keywords.progress_apply(\n",
    "        lambda x:make_keyword_lf(x.keyword, x.label_id), axis=1\n",
    "    ))\n",
    "    lfs = keywords.lf.values\n",
    "    return lfs"
   ]
  },
  {
   "cell_type": "code",
   "execution_count": 203,
   "metadata": {},
   "outputs": [
    {
     "data": {
      "text/plain": [
       "LabelingFunction keyword_like, Preprocessors: []"
      ]
     },
     "execution_count": 203,
     "metadata": {},
     "output_type": "execute_result"
    }
   ],
   "source": [
    "make_keyword_lf(keywords.loc[0, 'keyword'], 1)"
   ]
  },
  {
   "cell_type": "code",
   "execution_count": 204,
   "metadata": {},
   "outputs": [],
   "source": [
    "def make_keyword_df(positive_keywords: [str], negative_keywords: [str]) -> pd.DataFrame:\n",
    "    positive = pd.DataFrame(\n",
    "        pd.Series({x: 'positive' for (x) in positive_keywords}, name=\"label\")).reset_index().rename(columns={\"index\":\"keyword\"})\n",
    "    \n",
    "    negative = pd.DataFrame(\n",
    "        pd.Series({x: 'negative' for (x) in negative_keywords}, name=\"label\")).reset_index().rename(columns={\"index\":\"keyword\"})\n",
    "    keywords = positive.append(negative)\n",
    "    \n",
    "    assert len(positive) + len(negative) == len(keywords), \"Shapes doesn't match\"\n",
    "    \n",
    "    keywords.loc[keywords.label == 'positive', 'label_id'] = int(POSITIVE)\n",
    "    keywords.loc[keywords.label == 'negative', 'label_id'] = int(NEGATIVE)\n",
    "    keywords.reset_index(inplace=True, drop=True)\n",
    "    return keywords\n"
   ]
  },
  {
   "cell_type": "code",
   "execution_count": 205,
   "metadata": {},
   "outputs": [],
   "source": [
    "keywords = make_keyword_df(positive_keywords, negative_keywords)"
   ]
  },
  {
   "cell_type": "code",
   "execution_count": 206,
   "metadata": {},
   "outputs": [
    {
     "data": {
      "text/html": [
       "<div>\n",
       "<style scoped>\n",
       "    .dataframe tbody tr th:only-of-type {\n",
       "        vertical-align: middle;\n",
       "    }\n",
       "\n",
       "    .dataframe tbody tr th {\n",
       "        vertical-align: top;\n",
       "    }\n",
       "\n",
       "    .dataframe thead th {\n",
       "        text-align: right;\n",
       "    }\n",
       "</style>\n",
       "<table border=\"1\" class=\"dataframe\">\n",
       "  <thead>\n",
       "    <tr style=\"text-align: right;\">\n",
       "      <th></th>\n",
       "      <th>keyword</th>\n",
       "      <th>label</th>\n",
       "      <th>label_id</th>\n",
       "    </tr>\n",
       "  </thead>\n",
       "  <tbody>\n",
       "    <tr>\n",
       "      <th>0</th>\n",
       "      <td>like</td>\n",
       "      <td>positive</td>\n",
       "      <td>1.0</td>\n",
       "    </tr>\n",
       "    <tr>\n",
       "      <th>1</th>\n",
       "      <td>good</td>\n",
       "      <td>positive</td>\n",
       "      <td>1.0</td>\n",
       "    </tr>\n",
       "    <tr>\n",
       "      <th>2</th>\n",
       "      <td>great</td>\n",
       "      <td>positive</td>\n",
       "      <td>1.0</td>\n",
       "    </tr>\n",
       "    <tr>\n",
       "      <th>3</th>\n",
       "      <td>love</td>\n",
       "      <td>positive</td>\n",
       "      <td>1.0</td>\n",
       "    </tr>\n",
       "    <tr>\n",
       "      <th>4</th>\n",
       "      <td>best</td>\n",
       "      <td>positive</td>\n",
       "      <td>1.0</td>\n",
       "    </tr>\n",
       "    <tr>\n",
       "      <th>5</th>\n",
       "      <td>funny</td>\n",
       "      <td>positive</td>\n",
       "      <td>1.0</td>\n",
       "    </tr>\n",
       "    <tr>\n",
       "      <th>6</th>\n",
       "      <td>excellent</td>\n",
       "      <td>positive</td>\n",
       "      <td>1.0</td>\n",
       "    </tr>\n",
       "    <tr>\n",
       "      <th>7</th>\n",
       "      <td>fun</td>\n",
       "      <td>positive</td>\n",
       "      <td>1.0</td>\n",
       "    </tr>\n",
       "    <tr>\n",
       "      <th>8</th>\n",
       "      <td>beautiful</td>\n",
       "      <td>positive</td>\n",
       "      <td>1.0</td>\n",
       "    </tr>\n",
       "    <tr>\n",
       "      <th>9</th>\n",
       "      <td>interesting</td>\n",
       "      <td>positive</td>\n",
       "      <td>1.0</td>\n",
       "    </tr>\n",
       "    <tr>\n",
       "      <th>10</th>\n",
       "      <td>wonderful</td>\n",
       "      <td>positive</td>\n",
       "      <td>1.0</td>\n",
       "    </tr>\n",
       "    <tr>\n",
       "      <th>11</th>\n",
       "      <td>original</td>\n",
       "      <td>positive</td>\n",
       "      <td>1.0</td>\n",
       "    </tr>\n",
       "    <tr>\n",
       "      <th>12</th>\n",
       "      <td>perfect</td>\n",
       "      <td>positive</td>\n",
       "      <td>1.0</td>\n",
       "    </tr>\n",
       "    <tr>\n",
       "      <th>13</th>\n",
       "      <td>classic</td>\n",
       "      <td>positive</td>\n",
       "      <td>1.0</td>\n",
       "    </tr>\n",
       "    <tr>\n",
       "      <th>14</th>\n",
       "      <td>loved</td>\n",
       "      <td>positive</td>\n",
       "      <td>1.0</td>\n",
       "    </tr>\n",
       "    <tr>\n",
       "      <th>15</th>\n",
       "      <td>recommend</td>\n",
       "      <td>positive</td>\n",
       "      <td>1.0</td>\n",
       "    </tr>\n",
       "    <tr>\n",
       "      <th>16</th>\n",
       "      <td>amazing</td>\n",
       "      <td>positive</td>\n",
       "      <td>1.0</td>\n",
       "    </tr>\n",
       "    <tr>\n",
       "      <th>17</th>\n",
       "      <td>favorite</td>\n",
       "      <td>positive</td>\n",
       "      <td>1.0</td>\n",
       "    </tr>\n",
       "    <tr>\n",
       "      <th>18</th>\n",
       "      <td>bad</td>\n",
       "      <td>negative</td>\n",
       "      <td>0.0</td>\n",
       "    </tr>\n",
       "    <tr>\n",
       "      <th>19</th>\n",
       "      <td>worst</td>\n",
       "      <td>negative</td>\n",
       "      <td>0.0</td>\n",
       "    </tr>\n",
       "    <tr>\n",
       "      <th>20</th>\n",
       "      <td>horror</td>\n",
       "      <td>negative</td>\n",
       "      <td>0.0</td>\n",
       "    </tr>\n",
       "    <tr>\n",
       "      <th>21</th>\n",
       "      <td>awful</td>\n",
       "      <td>negative</td>\n",
       "      <td>0.0</td>\n",
       "    </tr>\n",
       "    <tr>\n",
       "      <th>22</th>\n",
       "      <td>poor</td>\n",
       "      <td>negative</td>\n",
       "      <td>0.0</td>\n",
       "    </tr>\n",
       "    <tr>\n",
       "      <th>23</th>\n",
       "      <td>boring</td>\n",
       "      <td>negative</td>\n",
       "      <td>0.0</td>\n",
       "    </tr>\n",
       "    <tr>\n",
       "      <th>24</th>\n",
       "      <td>stupid</td>\n",
       "      <td>negative</td>\n",
       "      <td>0.0</td>\n",
       "    </tr>\n",
       "    <tr>\n",
       "      <th>25</th>\n",
       "      <td>terrible</td>\n",
       "      <td>negative</td>\n",
       "      <td>0.0</td>\n",
       "    </tr>\n",
       "    <tr>\n",
       "      <th>26</th>\n",
       "      <td>waste</td>\n",
       "      <td>negative</td>\n",
       "      <td>0.0</td>\n",
       "    </tr>\n",
       "    <tr>\n",
       "      <th>27</th>\n",
       "      <td>worse</td>\n",
       "      <td>negative</td>\n",
       "      <td>0.0</td>\n",
       "    </tr>\n",
       "    <tr>\n",
       "      <th>28</th>\n",
       "      <td>horrible</td>\n",
       "      <td>negative</td>\n",
       "      <td>0.0</td>\n",
       "    </tr>\n",
       "  </tbody>\n",
       "</table>\n",
       "</div>"
      ],
      "text/plain": [
       "        keyword     label  label_id\n",
       "0          like  positive       1.0\n",
       "1          good  positive       1.0\n",
       "2         great  positive       1.0\n",
       "3          love  positive       1.0\n",
       "4          best  positive       1.0\n",
       "5         funny  positive       1.0\n",
       "6     excellent  positive       1.0\n",
       "7           fun  positive       1.0\n",
       "8     beautiful  positive       1.0\n",
       "9   interesting  positive       1.0\n",
       "10    wonderful  positive       1.0\n",
       "11     original  positive       1.0\n",
       "12      perfect  positive       1.0\n",
       "13      classic  positive       1.0\n",
       "14        loved  positive       1.0\n",
       "15    recommend  positive       1.0\n",
       "16      amazing  positive       1.0\n",
       "17     favorite  positive       1.0\n",
       "18          bad  negative       0.0\n",
       "19        worst  negative       0.0\n",
       "20       horror  negative       0.0\n",
       "21        awful  negative       0.0\n",
       "22         poor  negative       0.0\n",
       "23       boring  negative       0.0\n",
       "24       stupid  negative       0.0\n",
       "25     terrible  negative       0.0\n",
       "26        waste  negative       0.0\n",
       "27        worse  negative       0.0\n",
       "28     horrible  negative       0.0"
      ]
     },
     "execution_count": 206,
     "metadata": {},
     "output_type": "execute_result"
    }
   ],
   "source": [
    "keywords"
   ]
  },
  {
   "cell_type": "code",
   "execution_count": 207,
   "metadata": {},
   "outputs": [
    {
     "name": "stderr",
     "output_type": "stream",
     "text": [
      "100%|██████████| 29/29 [00:00<00:00, 12752.65it/s]\n"
     ]
    }
   ],
   "source": [
    "labeling_functions = create_labeling_functions(keywords)"
   ]
  },
  {
   "cell_type": "code",
   "execution_count": 208,
   "metadata": {},
   "outputs": [
    {
     "data": {
      "text/plain": [
       "array([LabelingFunction keyword_like, Preprocessors: [],\n",
       "       LabelingFunction keyword_good, Preprocessors: [],\n",
       "       LabelingFunction keyword_great, Preprocessors: [],\n",
       "       LabelingFunction keyword_love, Preprocessors: [],\n",
       "       LabelingFunction keyword_best, Preprocessors: [],\n",
       "       LabelingFunction keyword_funny, Preprocessors: [],\n",
       "       LabelingFunction keyword_excellent, Preprocessors: [],\n",
       "       LabelingFunction keyword_fun, Preprocessors: [],\n",
       "       LabelingFunction keyword_beautiful, Preprocessors: [],\n",
       "       LabelingFunction keyword_interesting, Preprocessors: [],\n",
       "       LabelingFunction keyword_wonderful, Preprocessors: [],\n",
       "       LabelingFunction keyword_original, Preprocessors: [],\n",
       "       LabelingFunction keyword_perfect, Preprocessors: [],\n",
       "       LabelingFunction keyword_classic, Preprocessors: [],\n",
       "       LabelingFunction keyword_loved, Preprocessors: [],\n",
       "       LabelingFunction keyword_recommend, Preprocessors: [],\n",
       "       LabelingFunction keyword_amazing, Preprocessors: [],\n",
       "       LabelingFunction keyword_favorite, Preprocessors: [],\n",
       "       LabelingFunction keyword_bad, Preprocessors: [],\n",
       "       LabelingFunction keyword_worst, Preprocessors: [],\n",
       "       LabelingFunction keyword_horror, Preprocessors: [],\n",
       "       LabelingFunction keyword_awful, Preprocessors: [],\n",
       "       LabelingFunction keyword_poor, Preprocessors: [],\n",
       "       LabelingFunction keyword_boring, Preprocessors: [],\n",
       "       LabelingFunction keyword_stupid, Preprocessors: [],\n",
       "       LabelingFunction keyword_terrible, Preprocessors: [],\n",
       "       LabelingFunction keyword_waste, Preprocessors: [],\n",
       "       LabelingFunction keyword_worse, Preprocessors: [],\n",
       "       LabelingFunction keyword_horrible, Preprocessors: []], dtype=object)"
      ]
     },
     "execution_count": 208,
     "metadata": {},
     "output_type": "execute_result"
    }
   ],
   "source": [
    "labeling_functions"
   ]
  },
  {
   "cell_type": "markdown",
   "metadata": {},
   "source": [
    "### Apply Labeling Functions\n",
    "\n",
    "Now lets apply all labeling functions on our reviews and check some statistics."
   ]
  },
  {
   "cell_type": "code",
   "execution_count": 209,
   "metadata": {},
   "outputs": [
    {
     "name": "stderr",
     "output_type": "stream",
     "text": [
      "/Users/sandro/.pyenv/versions/3.7.1/envs/imdbTut/lib/python3.7/site-packages/tqdm/std.py:703: FutureWarning: The Panel class is removed from pandas. Accessing it from the top-level namespace will also be removed in the next version\n",
      "  from pandas import Panel\n",
      "100%|██████████| 50000/50000 [00:08<00:00, 5649.52it/s]\n"
     ]
    }
   ],
   "source": [
    "applier = PandasLFApplier(lfs=labeling_functions)\n",
    "applied_lfs = applier.apply(df=imdb_dataset_raw)"
   ]
  },
  {
   "cell_type": "code",
   "execution_count": 213,
   "metadata": {},
   "outputs": [
    {
     "data": {
      "text/plain": [
       "array([[-1, -1, -1, ..., -1, -1, -1],\n",
       "       [-1, -1,  1, ..., -1, -1, -1],\n",
       "       [-1, -1,  1, ..., -1, -1, -1],\n",
       "       ...,\n",
       "       [-1,  1, -1, ..., -1, -1, -1],\n",
       "       [ 1, -1, -1, ..., -1, -1, -1],\n",
       "       [-1,  1, -1, ..., -1, -1, -1]])"
      ]
     },
     "execution_count": 213,
     "metadata": {},
     "output_type": "execute_result"
    }
   ],
   "source": [
    "applied_lfs"
   ]
  },
  {
   "cell_type": "markdown",
   "metadata": {},
   "source": [
    "Now we have a matrix with all labeling functions applied. This matrix has the shape $(instances \\times labeling functions)$"
   ]
  },
  {
   "cell_type": "code",
   "execution_count": 220,
   "metadata": {},
   "outputs": [
    {
     "name": "stdout",
     "output_type": "stream",
     "text": [
      "Shape of applied labeling functions:  (50000, 29)\n",
      "Number of reviews 50000\n",
      "Number of labeling functions 29\n"
     ]
    }
   ],
   "source": [
    "print(\"Shape of applied labeling functions: \", applied_lfs.shape)\n",
    "print(\"Number of reviews\", len(imdb_dataset_raw))\n",
    "print(\"Number of labeling functions\", len(labeling_functions))"
   ]
  },
  {
   "cell_type": "markdown",
   "metadata": {},
   "source": [
    "### Analysis\n",
    "\n",
    "Now we can analyse some basic stats about our labeling functions. The main figures are:\n",
    "\n",
    "- Coverage: How many labeling functions match at all\n",
    "- Overlaps: How many labeling functions overlap with each other (e.g. awesome and amazing)\n",
    "- Conflicts: How many labeling functions overlap and have different labels (e.g. awesome and bad)\n",
    "- Correct: Correct LFs\n",
    "- Incorrect: Incorrect Lfs"
   ]
  },
  {
   "cell_type": "code",
   "execution_count": 223,
   "metadata": {},
   "outputs": [
    {
     "data": {
      "text/html": [
       "<div>\n",
       "<style scoped>\n",
       "    .dataframe tbody tr th:only-of-type {\n",
       "        vertical-align: middle;\n",
       "    }\n",
       "\n",
       "    .dataframe tbody tr th {\n",
       "        vertical-align: top;\n",
       "    }\n",
       "\n",
       "    .dataframe thead th {\n",
       "        text-align: right;\n",
       "    }\n",
       "</style>\n",
       "<table border=\"1\" class=\"dataframe\">\n",
       "  <thead>\n",
       "    <tr style=\"text-align: right;\">\n",
       "      <th></th>\n",
       "      <th>j</th>\n",
       "      <th>Polarity</th>\n",
       "      <th>Coverage</th>\n",
       "      <th>Overlaps</th>\n",
       "      <th>Conflicts</th>\n",
       "    </tr>\n",
       "  </thead>\n",
       "  <tbody>\n",
       "    <tr>\n",
       "      <th>keyword_like</th>\n",
       "      <td>0</td>\n",
       "      <td>[1]</td>\n",
       "      <td>0.51858</td>\n",
       "      <td>0.49426</td>\n",
       "      <td>0.29586</td>\n",
       "    </tr>\n",
       "    <tr>\n",
       "      <th>keyword_good</th>\n",
       "      <td>1</td>\n",
       "      <td>[1]</td>\n",
       "      <td>0.38944</td>\n",
       "      <td>0.37670</td>\n",
       "      <td>0.22624</td>\n",
       "    </tr>\n",
       "    <tr>\n",
       "      <th>keyword_great</th>\n",
       "      <td>2</td>\n",
       "      <td>[1]</td>\n",
       "      <td>0.27614</td>\n",
       "      <td>0.26600</td>\n",
       "      <td>0.12862</td>\n",
       "    </tr>\n",
       "    <tr>\n",
       "      <th>keyword_love</th>\n",
       "      <td>3</td>\n",
       "      <td>[1]</td>\n",
       "      <td>0.25364</td>\n",
       "      <td>0.24712</td>\n",
       "      <td>0.11644</td>\n",
       "    </tr>\n",
       "    <tr>\n",
       "      <th>keyword_best</th>\n",
       "      <td>4</td>\n",
       "      <td>[1]</td>\n",
       "      <td>0.19712</td>\n",
       "      <td>0.19100</td>\n",
       "      <td>0.09734</td>\n",
       "    </tr>\n",
       "    <tr>\n",
       "      <th>keyword_funny</th>\n",
       "      <td>5</td>\n",
       "      <td>[1]</td>\n",
       "      <td>0.13242</td>\n",
       "      <td>0.13242</td>\n",
       "      <td>0.07612</td>\n",
       "    </tr>\n",
       "    <tr>\n",
       "      <th>keyword_excellent</th>\n",
       "      <td>6</td>\n",
       "      <td>[1]</td>\n",
       "      <td>0.07250</td>\n",
       "      <td>0.06944</td>\n",
       "      <td>0.02780</td>\n",
       "    </tr>\n",
       "    <tr>\n",
       "      <th>keyword_fun</th>\n",
       "      <td>7</td>\n",
       "      <td>[1]</td>\n",
       "      <td>0.23214</td>\n",
       "      <td>0.22890</td>\n",
       "      <td>0.12876</td>\n",
       "    </tr>\n",
       "    <tr>\n",
       "      <th>keyword_beautiful</th>\n",
       "      <td>8</td>\n",
       "      <td>[1]</td>\n",
       "      <td>0.08422</td>\n",
       "      <td>0.08150</td>\n",
       "      <td>0.03512</td>\n",
       "    </tr>\n",
       "    <tr>\n",
       "      <th>keyword_interesting</th>\n",
       "      <td>9</td>\n",
       "      <td>[1]</td>\n",
       "      <td>0.11144</td>\n",
       "      <td>0.10734</td>\n",
       "      <td>0.06326</td>\n",
       "    </tr>\n",
       "    <tr>\n",
       "      <th>keyword_wonderful</th>\n",
       "      <td>10</td>\n",
       "      <td>[1]</td>\n",
       "      <td>0.06498</td>\n",
       "      <td>0.06296</td>\n",
       "      <td>0.02336</td>\n",
       "    </tr>\n",
       "    <tr>\n",
       "      <th>keyword_original</th>\n",
       "      <td>11</td>\n",
       "      <td>[1]</td>\n",
       "      <td>0.10622</td>\n",
       "      <td>0.10346</td>\n",
       "      <td>0.06248</td>\n",
       "    </tr>\n",
       "    <tr>\n",
       "      <th>keyword_perfect</th>\n",
       "      <td>12</td>\n",
       "      <td>[1]</td>\n",
       "      <td>0.07940</td>\n",
       "      <td>0.07790</td>\n",
       "      <td>0.03502</td>\n",
       "    </tr>\n",
       "    <tr>\n",
       "      <th>keyword_classic</th>\n",
       "      <td>13</td>\n",
       "      <td>[1]</td>\n",
       "      <td>0.07310</td>\n",
       "      <td>0.07134</td>\n",
       "      <td>0.03650</td>\n",
       "    </tr>\n",
       "    <tr>\n",
       "      <th>keyword_loved</th>\n",
       "      <td>14</td>\n",
       "      <td>[1]</td>\n",
       "      <td>0.05698</td>\n",
       "      <td>0.05698</td>\n",
       "      <td>0.02286</td>\n",
       "    </tr>\n",
       "    <tr>\n",
       "      <th>keyword_recommend</th>\n",
       "      <td>15</td>\n",
       "      <td>[1]</td>\n",
       "      <td>0.08912</td>\n",
       "      <td>0.08606</td>\n",
       "      <td>0.04212</td>\n",
       "    </tr>\n",
       "    <tr>\n",
       "      <th>keyword_amazing</th>\n",
       "      <td>16</td>\n",
       "      <td>[1]</td>\n",
       "      <td>0.04958</td>\n",
       "      <td>0.04808</td>\n",
       "      <td>0.02112</td>\n",
       "    </tr>\n",
       "    <tr>\n",
       "      <th>keyword_favorite</th>\n",
       "      <td>17</td>\n",
       "      <td>[1]</td>\n",
       "      <td>0.04884</td>\n",
       "      <td>0.04788</td>\n",
       "      <td>0.02066</td>\n",
       "    </tr>\n",
       "    <tr>\n",
       "      <th>keyword_bad</th>\n",
       "      <td>18</td>\n",
       "      <td>[0]</td>\n",
       "      <td>0.25408</td>\n",
       "      <td>0.24728</td>\n",
       "      <td>0.23656</td>\n",
       "    </tr>\n",
       "    <tr>\n",
       "      <th>keyword_worst</th>\n",
       "      <td>19</td>\n",
       "      <td>[0]</td>\n",
       "      <td>0.08868</td>\n",
       "      <td>0.08670</td>\n",
       "      <td>0.07932</td>\n",
       "    </tr>\n",
       "    <tr>\n",
       "      <th>keyword_horror</th>\n",
       "      <td>20</td>\n",
       "      <td>[0]</td>\n",
       "      <td>0.08802</td>\n",
       "      <td>0.08640</td>\n",
       "      <td>0.08338</td>\n",
       "    </tr>\n",
       "    <tr>\n",
       "      <th>keyword_awful</th>\n",
       "      <td>21</td>\n",
       "      <td>[0]</td>\n",
       "      <td>0.06238</td>\n",
       "      <td>0.06126</td>\n",
       "      <td>0.05702</td>\n",
       "    </tr>\n",
       "    <tr>\n",
       "      <th>keyword_poor</th>\n",
       "      <td>22</td>\n",
       "      <td>[0]</td>\n",
       "      <td>0.08794</td>\n",
       "      <td>0.08526</td>\n",
       "      <td>0.08044</td>\n",
       "    </tr>\n",
       "    <tr>\n",
       "      <th>keyword_boring</th>\n",
       "      <td>23</td>\n",
       "      <td>[0]</td>\n",
       "      <td>0.06232</td>\n",
       "      <td>0.06066</td>\n",
       "      <td>0.05834</td>\n",
       "    </tr>\n",
       "    <tr>\n",
       "      <th>keyword_stupid</th>\n",
       "      <td>24</td>\n",
       "      <td>[0]</td>\n",
       "      <td>0.06298</td>\n",
       "      <td>0.06164</td>\n",
       "      <td>0.05832</td>\n",
       "    </tr>\n",
       "    <tr>\n",
       "      <th>keyword_terrible</th>\n",
       "      <td>25</td>\n",
       "      <td>[0]</td>\n",
       "      <td>0.05414</td>\n",
       "      <td>0.05296</td>\n",
       "      <td>0.04948</td>\n",
       "    </tr>\n",
       "    <tr>\n",
       "      <th>keyword_waste</th>\n",
       "      <td>26</td>\n",
       "      <td>[0]</td>\n",
       "      <td>0.07312</td>\n",
       "      <td>0.07094</td>\n",
       "      <td>0.06570</td>\n",
       "    </tr>\n",
       "    <tr>\n",
       "      <th>keyword_worse</th>\n",
       "      <td>27</td>\n",
       "      <td>[0]</td>\n",
       "      <td>0.05200</td>\n",
       "      <td>0.05112</td>\n",
       "      <td>0.04736</td>\n",
       "    </tr>\n",
       "    <tr>\n",
       "      <th>keyword_horrible</th>\n",
       "      <td>28</td>\n",
       "      <td>[0]</td>\n",
       "      <td>0.04210</td>\n",
       "      <td>0.04136</td>\n",
       "      <td>0.03854</td>\n",
       "    </tr>\n",
       "  </tbody>\n",
       "</table>\n",
       "</div>"
      ],
      "text/plain": [
       "                      j Polarity  Coverage  Overlaps  Conflicts\n",
       "keyword_like          0      [1]   0.51858   0.49426    0.29586\n",
       "keyword_good          1      [1]   0.38944   0.37670    0.22624\n",
       "keyword_great         2      [1]   0.27614   0.26600    0.12862\n",
       "keyword_love          3      [1]   0.25364   0.24712    0.11644\n",
       "keyword_best          4      [1]   0.19712   0.19100    0.09734\n",
       "keyword_funny         5      [1]   0.13242   0.13242    0.07612\n",
       "keyword_excellent     6      [1]   0.07250   0.06944    0.02780\n",
       "keyword_fun           7      [1]   0.23214   0.22890    0.12876\n",
       "keyword_beautiful     8      [1]   0.08422   0.08150    0.03512\n",
       "keyword_interesting   9      [1]   0.11144   0.10734    0.06326\n",
       "keyword_wonderful    10      [1]   0.06498   0.06296    0.02336\n",
       "keyword_original     11      [1]   0.10622   0.10346    0.06248\n",
       "keyword_perfect      12      [1]   0.07940   0.07790    0.03502\n",
       "keyword_classic      13      [1]   0.07310   0.07134    0.03650\n",
       "keyword_loved        14      [1]   0.05698   0.05698    0.02286\n",
       "keyword_recommend    15      [1]   0.08912   0.08606    0.04212\n",
       "keyword_amazing      16      [1]   0.04958   0.04808    0.02112\n",
       "keyword_favorite     17      [1]   0.04884   0.04788    0.02066\n",
       "keyword_bad          18      [0]   0.25408   0.24728    0.23656\n",
       "keyword_worst        19      [0]   0.08868   0.08670    0.07932\n",
       "keyword_horror       20      [0]   0.08802   0.08640    0.08338\n",
       "keyword_awful        21      [0]   0.06238   0.06126    0.05702\n",
       "keyword_poor         22      [0]   0.08794   0.08526    0.08044\n",
       "keyword_boring       23      [0]   0.06232   0.06066    0.05834\n",
       "keyword_stupid       24      [0]   0.06298   0.06164    0.05832\n",
       "keyword_terrible     25      [0]   0.05414   0.05296    0.04948\n",
       "keyword_waste        26      [0]   0.07312   0.07094    0.06570\n",
       "keyword_worse        27      [0]   0.05200   0.05112    0.04736\n",
       "keyword_horrible     28      [0]   0.04210   0.04136    0.03854"
      ]
     },
     "execution_count": 223,
     "metadata": {},
     "output_type": "execute_result"
    }
   ],
   "source": [
    "LFAnalysis(L=applied_lfs, lfs=labeling_functions).lf_summary()"
   ]
  },
  {
   "cell_type": "markdown",
   "metadata": {},
   "source": [
    "Lets have a look at some basic examples"
   ]
  },
  {
   "cell_type": "code",
   "execution_count": 229,
   "metadata": {},
   "outputs": [
    {
     "data": {
      "text/html": [
       "<div>\n",
       "<style scoped>\n",
       "    .dataframe tbody tr th:only-of-type {\n",
       "        vertical-align: middle;\n",
       "    }\n",
       "\n",
       "    .dataframe tbody tr th {\n",
       "        vertical-align: top;\n",
       "    }\n",
       "\n",
       "    .dataframe thead th {\n",
       "        text-align: right;\n",
       "    }\n",
       "</style>\n",
       "<table border=\"1\" class=\"dataframe\">\n",
       "  <thead>\n",
       "    <tr style=\"text-align: right;\">\n",
       "      <th></th>\n",
       "      <th>review</th>\n",
       "      <th>sentiment</th>\n",
       "    </tr>\n",
       "  </thead>\n",
       "  <tbody>\n",
       "    <tr>\n",
       "      <th>14708</th>\n",
       "      <td>Some of the greatest and most loved horror movies have a wicked sense of humour, but when a film comes along that isn't as original as the \"classics\" but just goes at it for laughs then a bunch of po-faced, wanna-be critics completely slag it off. This film made me laugh aloud several times, this is testament to the way this film was approached and it shows. The two main leads look natural and believable together and this really helps this film. You root for them the whole way and laugh along with them, everyone has friends like both of these guys. Another highlight for me was the monster truck, it's awesome, intimidating and really well shot. Taking inspiration (completely stealing) from loads of films, the most obvious being Duel, Jeepers Creepers and probably in reference to the Jack Black alike co-star Orange County. But really you can pick any road trip gone wrong movie and find a reference here. But so what, it's not trying to win any Oscars just give the viewer a good dose of frights and laughs and on that score it's a 10! Obviously It's not getting a 10, I give real sensible reviews and scores unlike 99% of the people on IMDb. There is no-way this movie can get a zero like so many lazy idiots give to too many films and as fun as it was it ain't getting a 10 either. It's just a good fun movie for anyone with a sense of humour and a liking for scares. You really can't get anymore simple than that.</td>\n",
       "      <td>negative</td>\n",
       "    </tr>\n",
       "    <tr>\n",
       "      <th>24770</th>\n",
       "      <td>Maximum risk is quite surprising to a person that has seen more then on of his movies. Director Ringo Lam made an average action-movie, that can be compared with most of the other mid-quality action movies, what is a special predicate to a `Muscles from Brussels`movie. It has a quite classy style, an interesting atmosphere and, last but not least, the beautyful Natasha Henstridge. Even VanDamme doesn´t make you crying by his acting, he does a relatively good job. Of course you may not compare Maximum Risk (oh, what a creative title!) to `Ronin`, but after watching `Knock off` it´s the hell of a good movie... in special standards, of course.</td>\n",
       "      <td>negative</td>\n",
       "    </tr>\n",
       "    <tr>\n",
       "      <th>38047</th>\n",
       "      <td>The way this story played out and the interaction between the 2 lead characters may lead me to believe that if the X-Files continues without Mulder and Scully, these would be a pretty good replacement duo.</td>\n",
       "      <td>positive</td>\n",
       "    </tr>\n",
       "    <tr>\n",
       "      <th>23499</th>\n",
       "      <td>Paul Naschy as a ghostly security guard in this is scarier than most of his fur-and-shoe-polish werewolf guises. The story is not unfamiliar, a bunch of kids going to party at an abandoned school. The thing is, that one of these kid's fathers did the same thing years ago but he's now deceased, and the latest group of kids seem to be reliving an event from 23 years ago. This is fairly well done for films of this type, and there's an air of mystery to what's going on because apparently what happened to the kids before is somewhat of a mystery and perhaps the truth wasn't revealed. So no, not just your standard slice and dice. This moves along at a fairly good clip and doesn't let you lose interest like a lot of films do, and the oddball story is compelling enough to keep you interested too, and there's some suspense which is lacking in a lot of films these days. The ending is rather abrupt and I suppose is left mostly to your imagination, but then again it doesn't out-stay its welcome either. 7 out of 10, check it out.</td>\n",
       "      <td>positive</td>\n",
       "    </tr>\n",
       "    <tr>\n",
       "      <th>21515</th>\n",
       "      <td>As a big fan of gorilla movies in general, I anticipated that this one would be great - and as for the gorilla effects, They were quite good, however - that is the only thing I can write about this flop. The film claims to be based on a true story but in effect, it does not even come close to what actually happened to \"Buddy\" - who in real life, was the famous Gargantua, sold to Ringling Bros. by our supposed \"heroic\" Gertrude Lintz, known by many animal enthusiasts as a woman who hardly had her animals' welfare in the best interest. As far as Buddy being portrayed as becoming aggressive, this was total fiction and at no time did the gorilla, in real life, resort to such behavior. buddy did, in fact, escape his wooden crate (not a plush cage room as depicted in movie) during a storm, to seek shelter and comfort in the house, which frightened Gertrude Lintz into selling him. No, Buddy was not released into a gorilla family surrounded by lush trees in a zoological paradise - he was abandoned in a wooden crate, deep in the back of a garage for some time with only a single light bulb for comfort and then sold to the circus - where he actually lived a better life having peanuts thrown at him until he died (historically the oldest living gorilla on record, by the way) before a show in Miami. Notice also, in the film, how Buddy grows older but the chimpanzees never age. (The chimps, by the way, were not raised simultaneously with other animals, including Buddy, as portrayed in the film)</td>\n",
       "      <td>negative</td>\n",
       "    </tr>\n",
       "    <tr>\n",
       "      <th>9933</th>\n",
       "      <td>This is an absolutely true and faithful adaptation of 'The Hollow'. It could be argued that the actual mystery here is not one Christie's best but what makes 'The Hollow' special is the characterisation and I found the actors here, more or less without exception, were perfect in their parts. In such a uniformly good cast it's difficult to select stand out performances but I have to say that Sarah Miles is just perfect as Lucy Angkatell. What is extraordinary is that she not only conveys Lucy's dottiness, tactlessness and her more lovable qualities BUT she also manages to pull off the underlying truth that in fact, Lucy is not really all that nice! Megan Dodds is also very good as Henrietta and Claire Price very affecting as Gerda. John Christow is really quite an unlikeable character but Jonathan Cake nevertheless manages to make us see what his women see in him.&lt;br /&gt;&lt;br /&gt;As I said, the script follows the story quite faithfully. The only disconcerting thing I found was that Midge and Edward's relationship really comes out of nowhere and I do believe that some of it must have ended up on the cutting room floor! Theirs a secondary story however and the primary story is very well done. The whole thing looks beautiful as well, really capturing a perfect English autumn.&lt;br /&gt;&lt;br /&gt;Its a beautiful film in every respect and well worth seeing.</td>\n",
       "      <td>positive</td>\n",
       "    </tr>\n",
       "    <tr>\n",
       "      <th>45308</th>\n",
       "      <td>This could have been a really good movie if someone would just have known how to finish the film.&lt;br /&gt;&lt;br /&gt;The story was going along just fine and heading towards that point in every movie like this where the \"gray\" characters turn \"good\" and the \"bad\" guys get their just desserts and *boom* ... it's like they ran out of script and the cast just started to make things up.&lt;br /&gt;&lt;br /&gt;Which wouldn't have been so bad ... if the cast had just continued with the character development they had already put in place. But such is not the case and the movie soon becomes a goofy mess.&lt;br /&gt;&lt;br /&gt;My advice is to watch this movie up to about the last 30 minutes ... and then shut it off. At this point, imagine how you think the next 30 minutes will look based on what you have seen so far.&lt;br /&gt;&lt;br /&gt;Believe me, the ending you come up with will look far better than how this film actually ends. Trust me on this.</td>\n",
       "      <td>negative</td>\n",
       "    </tr>\n",
       "    <tr>\n",
       "      <th>49387</th>\n",
       "      <td>Murder in Mesopotamia, I have always considered one of the better Poirot books, as it is very creepy and has an ingenious ending. There is no doubt that the TV adaptation is visually striking, with some lovely photography and a very haunting music score. As always David Suchet is impeccable as Hercule Poirot, the comedic highlight of the episode being Poirot's battle with a mosquito in the middle of the night, and Hugh Fraser is good as the rather naive Captain Hastings. The remainder of the cast turn in decent performances, but are careful not to overshadow the two leads, a danger in some Christie adaptations. Some of the episode was quite creepy, a juxtaposition of an episode as tragic as Five Little Pigs, an episode that I enjoyed a lot more than this one. What made it creepy in particular, putting aside the music was when Louise Leidner sees the ghostly face through the window. About the adaptation, it was fairly faithful to the book, but I will say that there were three things I didn't like. The main problem was the pacing, it is rather slow, and there are some scenes where very little happens. I didn't like the fact also that they made Joseph Mercado a murderer. In the book, I see him as a rather nervous character, but the intervention of the idea of making him a murderer, and under-developing that, made him a less appealing character, though I am glad they didn't miss his drug addiction. (I also noticed that the writers left out the fact that Mrs Mercado in the book falls into hysteria when she believes she is the murderer's next victim.) The other thing that wasn't so impressive was that I felt that it may have been more effective if the adaptation had been in the viewpoint of Amy Leatheran, like it was in the book, Amy somehow seemed less sensitive in the adaptation. On the whole, despite some misjudgements on the writers' behalf, I liked Murder in Mesopotamia. 7/10 Bethany Cox.</td>\n",
       "      <td>positive</td>\n",
       "    </tr>\n",
       "    <tr>\n",
       "      <th>38691</th>\n",
       "      <td>I've seen this film on Sky Cinema not too long ago.. I must admit, it was a really good Western which features 2 of the big names.. On one side, there's Charlton Heston, playing the infamous and retired lawman Samuel Burgade. On the other.. The late James Coburn playing the villainous Zach Provo.. seeking revenge on Burgade no matter what the cost..!&lt;br /&gt;&lt;br /&gt;The good thing about this film was there was some really good characters.. Most of the actors played it out really well.. Especially James Coburn, who I find that he was really mean in this film.. But that how it was..&lt;br /&gt;&lt;br /&gt;Christopher Mitchum, who I've seen everywhere in other films.. Playing Hal Brickman.. I felt his character was left out in the cold, but he manage to get himself back in by teaming up with Burgade, to bring down Provo's posse's!&lt;br /&gt;&lt;br /&gt;All in all, it was a great film.. Very good to watch.. Great score from the late Jerry Goldsmith..&lt;br /&gt;&lt;br /&gt;Wonderful piece of Western persona..! 8 out of 10.</td>\n",
       "      <td>positive</td>\n",
       "    </tr>\n",
       "    <tr>\n",
       "      <th>10216</th>\n",
       "      <td>Finding this piece sandwiched between a stale prequel and a rehashed 80s machomovie on a UPN affiliate's midday Saturday program would be misleading. It deserves better and definitely uses its talented leads' best attributes to its maximum advantage. Bracco and Walken team to provide a movie that while perhaps predictable to those familiar with their genre, do the streetwise, 'troubled minds' routine that they are so good at portraying. For a chance to ride a psychological roller coaster a la Fuqua's \"Training Day,\" dive back into the world of early '90s TV movies to find \"Scam\"!</td>\n",
       "      <td>positive</td>\n",
       "    </tr>\n",
       "  </tbody>\n",
       "</table>\n",
       "</div>"
      ],
      "text/plain": [
       "                                                                                                                                                                                                                                                                                                                                                                                                                                                                                                                                                                                                                                                                                                                                                                                                                                                                                                                                                                                                                                                                                                                                                                                                                                                                                                                                                                                                                                                                                                                                                                                                                                                                                                                                                                                                                                                                                                                                                                                                 review  \\\n",
       "14708  Some of the greatest and most loved horror movies have a wicked sense of humour, but when a film comes along that isn't as original as the \"classics\" but just goes at it for laughs then a bunch of po-faced, wanna-be critics completely slag it off. This film made me laugh aloud several times, this is testament to the way this film was approached and it shows. The two main leads look natural and believable together and this really helps this film. You root for them the whole way and laugh along with them, everyone has friends like both of these guys. Another highlight for me was the monster truck, it's awesome, intimidating and really well shot. Taking inspiration (completely stealing) from loads of films, the most obvious being Duel, Jeepers Creepers and probably in reference to the Jack Black alike co-star Orange County. But really you can pick any road trip gone wrong movie and find a reference here. But so what, it's not trying to win any Oscars just give the viewer a good dose of frights and laughs and on that score it's a 10! Obviously It's not getting a 10, I give real sensible reviews and scores unlike 99% of the people on IMDb. There is no-way this movie can get a zero like so many lazy idiots give to too many films and as fun as it was it ain't getting a 10 either. It's just a good fun movie for anyone with a sense of humour and a liking for scares. You really can't get anymore simple than that.                                                                                                                                                                                                                                                                                                                                                                                                                                                                                                                 \n",
       "24770  Maximum risk is quite surprising to a person that has seen more then on of his movies. Director Ringo Lam made an average action-movie, that can be compared with most of the other mid-quality action movies, what is a special predicate to a `Muscles from Brussels`movie. It has a quite classy style, an interesting atmosphere and, last but not least, the beautyful Natasha Henstridge. Even VanDamme doesn´t make you crying by his acting, he does a relatively good job. Of course you may not compare Maximum Risk (oh, what a creative title!) to `Ronin`, but after watching `Knock off` it´s the hell of a good movie... in special standards, of course.                                                                                                                                                                                                                                                                                                                                                                                                                                                                                                                                                                                                                                                                                                                                                                                                                                                                                                                                                                                                                                                                                                                                                                                                                                                                                                                           \n",
       "38047  The way this story played out and the interaction between the 2 lead characters may lead me to believe that if the X-Files continues without Mulder and Scully, these would be a pretty good replacement duo.                                                                                                                                                                                                                                                                                                                                                                                                                                                                                                                                                                                                                                                                                                                                                                                                                                                                                                                                                                                                                                                                                                                                                                                                                                                                                                                                                                                                                                                                                                                                                                                                                                                                                                                                                                                      \n",
       "23499  Paul Naschy as a ghostly security guard in this is scarier than most of his fur-and-shoe-polish werewolf guises. The story is not unfamiliar, a bunch of kids going to party at an abandoned school. The thing is, that one of these kid's fathers did the same thing years ago but he's now deceased, and the latest group of kids seem to be reliving an event from 23 years ago. This is fairly well done for films of this type, and there's an air of mystery to what's going on because apparently what happened to the kids before is somewhat of a mystery and perhaps the truth wasn't revealed. So no, not just your standard slice and dice. This moves along at a fairly good clip and doesn't let you lose interest like a lot of films do, and the oddball story is compelling enough to keep you interested too, and there's some suspense which is lacking in a lot of films these days. The ending is rather abrupt and I suppose is left mostly to your imagination, but then again it doesn't out-stay its welcome either. 7 out of 10, check it out.                                                                                                                                                                                                                                                                                                                                                                                                                                                                                                                                                                                                                                                                                                                                                                                                                                                                                                                           \n",
       "21515  As a big fan of gorilla movies in general, I anticipated that this one would be great - and as for the gorilla effects, They were quite good, however - that is the only thing I can write about this flop. The film claims to be based on a true story but in effect, it does not even come close to what actually happened to \"Buddy\" - who in real life, was the famous Gargantua, sold to Ringling Bros. by our supposed \"heroic\" Gertrude Lintz, known by many animal enthusiasts as a woman who hardly had her animals' welfare in the best interest. As far as Buddy being portrayed as becoming aggressive, this was total fiction and at no time did the gorilla, in real life, resort to such behavior. buddy did, in fact, escape his wooden crate (not a plush cage room as depicted in movie) during a storm, to seek shelter and comfort in the house, which frightened Gertrude Lintz into selling him. No, Buddy was not released into a gorilla family surrounded by lush trees in a zoological paradise - he was abandoned in a wooden crate, deep in the back of a garage for some time with only a single light bulb for comfort and then sold to the circus - where he actually lived a better life having peanuts thrown at him until he died (historically the oldest living gorilla on record, by the way) before a show in Miami. Notice also, in the film, how Buddy grows older but the chimpanzees never age. (The chimps, by the way, were not raised simultaneously with other animals, including Buddy, as portrayed in the film)                                                                                                                                                                                                                                                                                                                                                                                                                                   \n",
       "9933   This is an absolutely true and faithful adaptation of 'The Hollow'. It could be argued that the actual mystery here is not one Christie's best but what makes 'The Hollow' special is the characterisation and I found the actors here, more or less without exception, were perfect in their parts. In such a uniformly good cast it's difficult to select stand out performances but I have to say that Sarah Miles is just perfect as Lucy Angkatell. What is extraordinary is that she not only conveys Lucy's dottiness, tactlessness and her more lovable qualities BUT she also manages to pull off the underlying truth that in fact, Lucy is not really all that nice! Megan Dodds is also very good as Henrietta and Claire Price very affecting as Gerda. John Christow is really quite an unlikeable character but Jonathan Cake nevertheless manages to make us see what his women see in him.<br /><br />As I said, the script follows the story quite faithfully. The only disconcerting thing I found was that Midge and Edward's relationship really comes out of nowhere and I do believe that some of it must have ended up on the cutting room floor! Theirs a secondary story however and the primary story is very well done. The whole thing looks beautiful as well, really capturing a perfect English autumn.<br /><br />Its a beautiful film in every respect and well worth seeing.                                                                                                                                                                                                                                                                                                                                                                                                                                                                                                                                                                                    \n",
       "45308  This could have been a really good movie if someone would just have known how to finish the film.<br /><br />The story was going along just fine and heading towards that point in every movie like this where the \"gray\" characters turn \"good\" and the \"bad\" guys get their just desserts and *boom* ... it's like they ran out of script and the cast just started to make things up.<br /><br />Which wouldn't have been so bad ... if the cast had just continued with the character development they had already put in place. But such is not the case and the movie soon becomes a goofy mess.<br /><br />My advice is to watch this movie up to about the last 30 minutes ... and then shut it off. At this point, imagine how you think the next 30 minutes will look based on what you have seen so far.<br /><br />Believe me, the ending you come up with will look far better than how this film actually ends. Trust me on this.                                                                                                                                                                                                                                                                                                                                                                                                                                                                                                                                                                                                                                                                                                                                                                                                                                                                                                                                                                                                                                                    \n",
       "49387  Murder in Mesopotamia, I have always considered one of the better Poirot books, as it is very creepy and has an ingenious ending. There is no doubt that the TV adaptation is visually striking, with some lovely photography and a very haunting music score. As always David Suchet is impeccable as Hercule Poirot, the comedic highlight of the episode being Poirot's battle with a mosquito in the middle of the night, and Hugh Fraser is good as the rather naive Captain Hastings. The remainder of the cast turn in decent performances, but are careful not to overshadow the two leads, a danger in some Christie adaptations. Some of the episode was quite creepy, a juxtaposition of an episode as tragic as Five Little Pigs, an episode that I enjoyed a lot more than this one. What made it creepy in particular, putting aside the music was when Louise Leidner sees the ghostly face through the window. About the adaptation, it was fairly faithful to the book, but I will say that there were three things I didn't like. The main problem was the pacing, it is rather slow, and there are some scenes where very little happens. I didn't like the fact also that they made Joseph Mercado a murderer. In the book, I see him as a rather nervous character, but the intervention of the idea of making him a murderer, and under-developing that, made him a less appealing character, though I am glad they didn't miss his drug addiction. (I also noticed that the writers left out the fact that Mrs Mercado in the book falls into hysteria when she believes she is the murderer's next victim.) The other thing that wasn't so impressive was that I felt that it may have been more effective if the adaptation had been in the viewpoint of Amy Leatheran, like it was in the book, Amy somehow seemed less sensitive in the adaptation. On the whole, despite some misjudgements on the writers' behalf, I liked Murder in Mesopotamia. 7/10 Bethany Cox.   \n",
       "38691  I've seen this film on Sky Cinema not too long ago.. I must admit, it was a really good Western which features 2 of the big names.. On one side, there's Charlton Heston, playing the infamous and retired lawman Samuel Burgade. On the other.. The late James Coburn playing the villainous Zach Provo.. seeking revenge on Burgade no matter what the cost..!<br /><br />The good thing about this film was there was some really good characters.. Most of the actors played it out really well.. Especially James Coburn, who I find that he was really mean in this film.. But that how it was..<br /><br />Christopher Mitchum, who I've seen everywhere in other films.. Playing Hal Brickman.. I felt his character was left out in the cold, but he manage to get himself back in by teaming up with Burgade, to bring down Provo's posse's!<br /><br />All in all, it was a great film.. Very good to watch.. Great score from the late Jerry Goldsmith..<br /><br />Wonderful piece of Western persona..! 8 out of 10.                                                                                                                                                                                                                                                                                                                                                                                                                                                                                                                                                                                                                                                                                                                                                                                                                                                                                                                                                                 \n",
       "10216  Finding this piece sandwiched between a stale prequel and a rehashed 80s machomovie on a UPN affiliate's midday Saturday program would be misleading. It deserves better and definitely uses its talented leads' best attributes to its maximum advantage. Bracco and Walken team to provide a movie that while perhaps predictable to those familiar with their genre, do the streetwise, 'troubled minds' routine that they are so good at portraying. For a chance to ride a psychological roller coaster a la Fuqua's \"Training Day,\" dive back into the world of early '90s TV movies to find \"Scam\"!                                                                                                                                                                                                                                                                                                                                                                                                                                                                                                                                                                                                                                                                                                                                                                                                                                                                                                                                                                                                                                                                                                                                                                                                                                                                                                                                                                                         \n",
       "\n",
       "      sentiment  \n",
       "14708  negative  \n",
       "24770  negative  \n",
       "38047  positive  \n",
       "23499  positive  \n",
       "21515  negative  \n",
       "9933   positive  \n",
       "45308  negative  \n",
       "49387  positive  \n",
       "38691  positive  \n",
       "10216  positive  "
      ]
     },
     "execution_count": 229,
     "metadata": {},
     "output_type": "execute_result"
    }
   ],
   "source": [
    "imdb_dataset_raw.iloc[applied_lfs[:, 1] == POSITIVE, :].sample(10, random_state=1).loc[:, ['review','sentiment']]"
   ]
  },
  {
   "cell_type": "markdown",
   "metadata": {},
   "source": [
    "### Majority Vote\n",
    "\n",
    "Now we make a majority vote based on all rule matches."
   ]
  },
  {
   "cell_type": "code",
   "execution_count": 231,
   "metadata": {},
   "outputs": [],
   "source": [
    "majority_model = MajorityLabelVoter(cardinality=2)\n",
    "predictions = majority_model.predict(applied_lfs)"
   ]
  },
  {
   "cell_type": "code",
   "execution_count": 236,
   "metadata": {},
   "outputs": [
    {
     "data": {
      "text/plain": [
       "(array([-1,  0,  1]), array([ 6817,  6141, 37042]))"
      ]
     },
     "execution_count": 236,
     "metadata": {},
     "output_type": "execute_result"
    }
   ],
   "source": [
    "# Positive is a bit overrepresented\n",
    "np.unique(predictions, return_counts=True)"
   ]
  },
  {
   "cell_type": "code",
   "execution_count": 242,
   "metadata": {},
   "outputs": [
    {
     "data": {
      "text/plain": [
       "(50000,)"
      ]
     },
     "execution_count": 242,
     "metadata": {},
     "output_type": "execute_result"
    }
   ],
   "source": [
    "predictions.shape"
   ]
  },
  {
   "cell_type": "code",
   "execution_count": 247,
   "metadata": {},
   "outputs": [],
   "source": [
    "imdb_dataset_raw['label_id'] = imdb_dataset_raw.sentiment.map({'positive':POSITIVE, 'negative':NEGATIVE})"
   ]
  },
  {
   "cell_type": "code",
   "execution_count": 248,
   "metadata": {},
   "outputs": [],
   "source": [
    "imdb_dataset_raw['prediction'] = predictions"
   ]
  },
  {
   "cell_type": "code",
   "execution_count": 252,
   "metadata": {},
   "outputs": [
    {
     "name": "stdout",
     "output_type": "stream",
     "text": [
      "Accuracy of Majority Vote model is:  0.57028\n"
     ]
    }
   ],
   "source": [
    "acc = np.sum(imdb_dataset_raw.label_id == imdb_dataset_raw.prediction) / len(imdb_dataset_raw)\n",
    "print(\"Accuracy of Majority Vote model is: \", acc)"
   ]
  },
  {
   "cell_type": "markdown",
   "metadata": {},
   "source": [
    "# Finish\n",
    "\n",
    "Now, we have created a weak supervision dataset. Of course it is not perfect but it is something with which we can compare performances of different denoising methods with. :-) "
   ]
  }
 ],
 "metadata": {
  "kernelspec": {
   "display_name": "Python 3",
   "language": "python",
   "name": "python3"
  },
  "language_info": {
   "codemirror_mode": {
    "name": "ipython",
    "version": 3
   },
   "file_extension": ".py",
   "mimetype": "text/x-python",
   "name": "python",
   "nbconvert_exporter": "python",
   "pygments_lexer": "ipython3",
   "version": "3.7.1"
  }
 },
 "nbformat": 4,
 "nbformat_minor": 4
}
