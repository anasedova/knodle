{
 "cells": [
  {
   "cell_type": "markdown",
   "metadata": {},
   "source": [
    "# Data Preprocessing using own rules (the Regex)"
   ]
  },
  {
   "cell_type": "code",
   "execution_count": 1,
   "metadata": {},
   "outputs": [],
   "source": [
    "import pandas as pd\n",
    "import json\n",
    "import os\n",
    "import numpy as np\n",
    "import re\n",
    "import scipy.sparse as sp\n",
    "from tqdm import tqdm\n",
    "from pathlib import Path\n",
    "from joblib import dump"
   ]
  },
  {
   "cell_type": "markdown",
   "metadata": {},
   "source": [
    "## Getting the data\n",
    "\n",
    "reading the json data and converting it to a pd dataframe\n",
    "\n",
    "For now I only took the samples (and for the test data also the labels, later we will also need the name of the target)"
   ]
  },
  {
   "cell_type": "code",
   "execution_count": 28,
   "metadata": {},
   "outputs": [
    {
     "data": {
      "text/plain": [
       "'C:/Users/Emilie/Uni/2021WS/DS_project/data/police_killing'"
      ]
     },
     "execution_count": 28,
     "metadata": {},
     "output_type": "execute_result"
    }
   ],
   "source": [
    "# define the files names\n",
    "Z_MATRIX_OUTPUT_TRAIN = \"train_rule_matches_z.lib\"\n",
    "Z_MATRIX_OUTPUT_DEV = \"dev_rule_matches_z.lib\"\n",
    "Z_MATRIX_OUTPUT_TEST = \"test_rule_matches_z.lib\"\n",
    "\n",
    "T_MATRIX_OUTPUT_TRAIN = \"mapping_rules_labels_t.lib\"\n",
    "\n",
    "TRAIN_SAMPLES_OUTPUT = \"df_train.lib\"\n",
    "DEV_SAMPLES_OUTPUT = \"df_dev.lib\"\n",
    "TEST_SAMPLES_OUTPUT = \"df_test.lib\"\n",
    "\n",
    "# file names for .csv files\n",
    "TRAIN_SAMPLES_OUTPUT_CSV = \"df_train.csv\"\n",
    "DEV_SAMPLES_OUTPUT_CSV = \"df_dev.csv\"\n",
    "TEST_SAMPLES_OUTPUT_CSV = \"df_test.csv\"\n",
    "\n",
    "# define the path to the folder where the data will be stored\n",
    "data_path = \"C:/Users/Emilie/Uni/2021WS/DS_project/data/police_killing\"\n",
    "os.path.join(data_path)"
   ]
  },
  {
   "cell_type": "code",
   "execution_count": 3,
   "metadata": {},
   "outputs": [],
   "source": [
    "# later first downloaded from Minio\n",
    "\n",
    "def get_train_data(data_path):\n",
    "    with open(os.path.join(data_path, \"train.json\"), 'r') as data:\n",
    "        train_data = [json.loads(line) for line in data] #a list of dicts\n",
    "    #df_train_all = pd.DataFrame(train_data)\n",
    "    df_train_sent_alter = pd.DataFrame(train_data, columns = [\"sent_alter\"]).rename(columns={\"sent_alter\": \"samples\"})\n",
    "    return df_train_sent_alter\n",
    "\n",
    "df_train = get_train_data(data_path)"
   ]
  },
  {
   "cell_type": "code",
   "execution_count": 4,
   "metadata": {},
   "outputs": [
    {
     "data": {
      "text/html": [
       "<div>\n",
       "<style scoped>\n",
       "    .dataframe tbody tr th:only-of-type {\n",
       "        vertical-align: middle;\n",
       "    }\n",
       "\n",
       "    .dataframe tbody tr th {\n",
       "        vertical-align: top;\n",
       "    }\n",
       "\n",
       "    .dataframe thead th {\n",
       "        text-align: right;\n",
       "    }\n",
       "</style>\n",
       "<table border=\"1\" class=\"dataframe\">\n",
       "  <thead>\n",
       "    <tr style=\"text-align: right;\">\n",
       "      <th></th>\n",
       "      <th>samples</th>\n",
       "    </tr>\n",
       "  </thead>\n",
       "  <tbody>\n",
       "    <tr>\n",
       "      <th>0</th>\n",
       "      <td>Two years earlier , Officer TARGET was killed ...</td>\n",
       "    </tr>\n",
       "    <tr>\n",
       "      <th>1</th>\n",
       "      <td>Police Chief PERSON said Randolph was found sh...</td>\n",
       "    </tr>\n",
       "    <tr>\n",
       "      <th>2</th>\n",
       "      <td>In the latest incident , Chief Superintendent ...</td>\n",
       "    </tr>\n",
       "    <tr>\n",
       "      <th>3</th>\n",
       "      <td>Chief TARGET of Penn Township police entered t...</td>\n",
       "    </tr>\n",
       "    <tr>\n",
       "      <th>4</th>\n",
       "      <td>A man was was fatally shot by a police officer...</td>\n",
       "    </tr>\n",
       "  </tbody>\n",
       "</table>\n",
       "</div>"
      ],
      "text/plain": [
       "                                             samples\n",
       "0  Two years earlier , Officer TARGET was killed ...\n",
       "1  Police Chief PERSON said Randolph was found sh...\n",
       "2  In the latest incident , Chief Superintendent ...\n",
       "3  Chief TARGET of Penn Township police entered t...\n",
       "4  A man was was fatally shot by a police officer..."
      ]
     },
     "execution_count": 4,
     "metadata": {},
     "output_type": "execute_result"
    }
   ],
   "source": [
    "df_train.head()"
   ]
  },
  {
   "cell_type": "code",
   "execution_count": 6,
   "metadata": {},
   "outputs": [
    {
     "name": "stdout",
     "output_type": "stream",
     "text": [
      "How much of the test data should be used for development? (in percent) 40\n"
     ]
    }
   ],
   "source": [
    "#how many of the test data should be used as dev data in %\n",
    "\n",
    "used_as_dev = int(input(\"How much of the test data should be used for development? (in percent) \"))"
   ]
  },
  {
   "cell_type": "code",
   "execution_count": 7,
   "metadata": {},
   "outputs": [],
   "source": [
    "def get_dev_test_data(data_path):\n",
    "    with open(os.path.join(data_path, \"test.json\"), 'r') as data:\n",
    "        dev_test_data = [json.loads(line) for line in data]\n",
    "    dev_test_sent_alter = pd.DataFrame(dev_test_data, columns = [\"sent_alter\", \"plabel\"]).rename(columns={\"sent_alter\": \"samples\", \"plabel\": \"label\"})\n",
    "    df_dev = dev_test_sent_alter.sample(n = int(round((dev_test_sent_alter.shape[0]/100)*used_as_dev))).reset_index(drop = True)\n",
    "    df_test = dev_test_sent_alter.drop(df_dev.index).reset_index(drop = True)\n",
    "    return df_dev, df_test"
   ]
  },
  {
   "cell_type": "code",
   "execution_count": 8,
   "metadata": {},
   "outputs": [
    {
     "name": "stdout",
     "output_type": "stream",
     "text": [
      "The dev data contains 27570 samples, the test data contains 41355 samples.\n"
     ]
    }
   ],
   "source": [
    "df_dev, df_test = get_dev_test_data(data_path)\n",
    "\n",
    "print(f\"The dev data contains {df_dev.shape[0]} samples, the test data contains {df_test.shape[0]} samples.\")"
   ]
  },
  {
   "cell_type": "code",
   "execution_count": 9,
   "metadata": {},
   "outputs": [
    {
     "data": {
      "text/html": [
       "<div>\n",
       "<style scoped>\n",
       "    .dataframe tbody tr th:only-of-type {\n",
       "        vertical-align: middle;\n",
       "    }\n",
       "\n",
       "    .dataframe tbody tr th {\n",
       "        vertical-align: top;\n",
       "    }\n",
       "\n",
       "    .dataframe thead th {\n",
       "        text-align: right;\n",
       "    }\n",
       "</style>\n",
       "<table border=\"1\" class=\"dataframe\">\n",
       "  <thead>\n",
       "    <tr style=\"text-align: right;\">\n",
       "      <th></th>\n",
       "      <th>samples</th>\n",
       "      <th>label</th>\n",
       "    </tr>\n",
       "  </thead>\n",
       "  <tbody>\n",
       "    <tr>\n",
       "      <th>0</th>\n",
       "      <td>The recently surfaced footage shows an officer...</td>\n",
       "      <td>0</td>\n",
       "    </tr>\n",
       "    <tr>\n",
       "      <th>1</th>\n",
       "      <td>Officer TARGET , who was shot , had been on th...</td>\n",
       "      <td>0</td>\n",
       "    </tr>\n",
       "    <tr>\n",
       "      <th>2</th>\n",
       "      <td>The second officer was killed at the intersect...</td>\n",
       "      <td>0</td>\n",
       "    </tr>\n",
       "    <tr>\n",
       "      <th>3</th>\n",
       "      <td>Bashioum was killed and fellow officer TARGET ...</td>\n",
       "      <td>0</td>\n",
       "    </tr>\n",
       "    <tr>\n",
       "      <th>4</th>\n",
       "      <td>TARGET , 26 , was shot in the head at 4:05 a.m...</td>\n",
       "      <td>0</td>\n",
       "    </tr>\n",
       "  </tbody>\n",
       "</table>\n",
       "</div>"
      ],
      "text/plain": [
       "                                             samples  label\n",
       "0  The recently surfaced footage shows an officer...      0\n",
       "1  Officer TARGET , who was shot , had been on th...      0\n",
       "2  The second officer was killed at the intersect...      0\n",
       "3  Bashioum was killed and fellow officer TARGET ...      0\n",
       "4  TARGET , 26 , was shot in the head at 4:05 a.m...      0"
      ]
     },
     "execution_count": 9,
     "metadata": {},
     "output_type": "execute_result"
    }
   ],
   "source": [
    "df_dev.head()"
   ]
  },
  {
   "cell_type": "code",
   "execution_count": 10,
   "metadata": {},
   "outputs": [
    {
     "data": {
      "text/html": [
       "<div>\n",
       "<style scoped>\n",
       "    .dataframe tbody tr th:only-of-type {\n",
       "        vertical-align: middle;\n",
       "    }\n",
       "\n",
       "    .dataframe tbody tr th {\n",
       "        vertical-align: top;\n",
       "    }\n",
       "\n",
       "    .dataframe thead th {\n",
       "        text-align: right;\n",
       "    }\n",
       "</style>\n",
       "<table border=\"1\" class=\"dataframe\">\n",
       "  <thead>\n",
       "    <tr style=\"text-align: right;\">\n",
       "      <th></th>\n",
       "      <th>samples</th>\n",
       "      <th>label</th>\n",
       "    </tr>\n",
       "  </thead>\n",
       "  <tbody>\n",
       "    <tr>\n",
       "      <th>0</th>\n",
       "      <td>old TARGET , who suffered from schizophrenia ,...</td>\n",
       "      <td>0</td>\n",
       "    </tr>\n",
       "    <tr>\n",
       "      <th>1</th>\n",
       "      <td>The killing of the woman , TARGET , 66 , who w...</td>\n",
       "      <td>0</td>\n",
       "    </tr>\n",
       "    <tr>\n",
       "      <th>2</th>\n",
       "      <td>TARGET eleland@charlotteobserver.com Violent p...</td>\n",
       "      <td>0</td>\n",
       "    </tr>\n",
       "    <tr>\n",
       "      <th>3</th>\n",
       "      <td>TARGET eleland@charlotteobserver.com Two days ...</td>\n",
       "      <td>0</td>\n",
       "    </tr>\n",
       "    <tr>\n",
       "      <th>4</th>\n",
       "      <td>Six months have passed since Midlothian fitnes...</td>\n",
       "      <td>0</td>\n",
       "    </tr>\n",
       "  </tbody>\n",
       "</table>\n",
       "</div>"
      ],
      "text/plain": [
       "                                             samples  label\n",
       "0  old TARGET , who suffered from schizophrenia ,...      0\n",
       "1  The killing of the woman , TARGET , 66 , who w...      0\n",
       "2  TARGET eleland@charlotteobserver.com Violent p...      0\n",
       "3  TARGET eleland@charlotteobserver.com Two days ...      0\n",
       "4  Six months have passed since Midlothian fitnes...      0"
      ]
     },
     "execution_count": 10,
     "metadata": {},
     "output_type": "execute_result"
    }
   ],
   "source": [
    "df_test.head()"
   ]
  },
  {
   "cell_type": "markdown",
   "metadata": {},
   "source": [
    "## Getting the rules"
   ]
  },
  {
   "cell_type": "markdown",
   "metadata": {},
   "source": [
    "should I save the different word types or the rules in a separate file?"
   ]
  },
  {
   "cell_type": "code",
   "execution_count": 11,
   "metadata": {},
   "outputs": [],
   "source": [
    "police_words = ['police', 'officer', 'officers', 'cop', 'cops', 'detective', 'sheriff', 'policeman', 'policemen',\n",
    "                'constable', 'patrolman', 'sergeant', 'detectives', 'patrolmen', 'policewoman', 'constables',\n",
    "                'trooper', 'troopers', 'sergeants', 'lieutenant', 'deputies', 'deputy']\n",
    "\n",
    "killing_words_active = ['shot', 'shoots', 'shoot', 'shooting', 'shots', 'killed', 'kill', 'kills', 'killing', 'murder', 'murders']\n",
    "\n",
    "killing_words_passive = ['hit', 'shot', 'killed', 'murdered']\n",
    "\n",
    "shooting_words = ['shot', 'shoots', 'shoot', 'shooting', 'shots']\n",
    "\n",
    "fatality_words = ['fatal', 'fatally', 'died', 'killed', 'killing', 'dead', 'deadly', 'homicide', 'homicides']"
   ]
  },
  {
   "cell_type": "markdown",
   "metadata": {},
   "source": [
    "All different ways I could think of a sentence could express the target was killed by the police. (There are probably more and the rules can still be expanded.)"
   ]
  },
  {
   "cell_type": "code",
   "execution_count": 12,
   "metadata": {},
   "outputs": [],
   "source": [
    "def creating_rules():\n",
    "    \n",
    "    rule2rule_id = dict({})\n",
    "    rule_id = 0\n",
    "    \n",
    "    for police_word in police_words: \n",
    "        \n",
    "        for killing_word_active in killing_words_active:\n",
    "            if killing_word_active not in shooting_words:\n",
    "                a1 = f\"{police_word}.*{killing_word_active}.*target\"\n",
    "                rule2rule_id[a1] = rule_id\n",
    "                rule_id += 1\n",
    "            else:\n",
    "                for fatality_word in fatality_words:\n",
    "                    a2 = f\"{police_word}.*{killing_word_active}.*target.*{fatality_word}\"\n",
    "                    rule2rule_id[a2] = rule_id\n",
    "                    rule_id += 1\n",
    "                    a3 = f\"{police_word}.*{fatality_word}.*{killing_word_active}.*target\"\n",
    "                    rule2rule_id[a3] = rule_id\n",
    "                    rule_id += 1\n",
    "                    a4 = f\"{police_word}.*{killing_word_active}.*{fatality_word}.*target\"\n",
    "                    rule2rule_id[a4] = rule_id\n",
    "                    rule_id += 1\n",
    "                    \n",
    "\n",
    "        for killing_word_passive in killing_words_passive:\n",
    "            if killing_word_passive not in shooting_words:\n",
    "                p1 = f\"target.*{killing_word_passive}.*by.*{police_word}\"\n",
    "                rule2rule_id[p1] = rule_id\n",
    "                rule_id += 1\n",
    "            else: \n",
    "                for fatality_word in fatality_words:\n",
    "                    p2 = f\"target.*{killing_word_passive}.*{fatality_word}.*by.*{police_word}\"\n",
    "                    rule2rule_id[p2] = rule_id\n",
    "                    rule_id += 1\n",
    "                    p3 = f\"target.*{fatality_word}.*{killing_word_passive}.*by.*{police_word}\"\n",
    "                    rule2rule_id[p3] = rule_id\n",
    "                    rule_id += 1\n",
    "                    p4 = f\"target.*{killing_word_passive}.*by.*{police_word}.*{fatality_word}\"\n",
    "                    rule2rule_id[p4] = rule_id\n",
    "                    rule_id += 1\n",
    "                        \n",
    "    return(rule2rule_id)"
   ]
  },
  {
   "cell_type": "code",
   "execution_count": 15,
   "metadata": {},
   "outputs": [
    {
     "name": "stdout",
     "output_type": "stream",
     "text": [
      "There are 3762 rules.\n"
     ]
    }
   ],
   "source": [
    "rule2rule_id = creating_rules()\n",
    "print(f\"There are {len(rule2rule_id)} rules.\")"
   ]
  },
  {
   "cell_type": "code",
   "execution_count": 16,
   "metadata": {},
   "outputs": [],
   "source": [
    "#getting the rule ID and creating a new dict with it, assigning \n",
    "#the value 1 to all of them because there is only one class\n",
    "\n",
    "def rule_id2label_id(rule2rule_id):\n",
    "\n",
    "    rule2label = dict({})\n",
    "\n",
    "    for rule, rule_id in rule2rule_id.items():\n",
    "        rule2label[rule_id] = 1\n",
    "        \n",
    "    return(rule2label)\n",
    "        \n",
    "\n",
    "rule2label = rule_id2label_id(rule2rule_id)"
   ]
  },
  {
   "cell_type": "code",
   "execution_count": 17,
   "metadata": {},
   "outputs": [],
   "source": [
    "\"\"\"\n",
    "manually creating a label2label_id dict, since there's only one class, \n",
    "and a label_id2label dict (I will need that later, but I'm not sure if I'm allowed to to it like this)\n",
    "Is it okay to create it manually?\n",
    "\"\"\"\n",
    "\n",
    "label2label_id ={\"negative\":0, \"positive\":1}\n",
    "label_id2label = {0: \"negative\", 1: \"positive\"}"
   ]
  },
  {
   "cell_type": "markdown",
   "metadata": {},
   "source": [
    "## building the T matrix\n"
   ]
  },
  {
   "cell_type": "code",
   "execution_count": 18,
   "metadata": {},
   "outputs": [],
   "source": [
    "num_classes = 2"
   ]
  },
  {
   "cell_type": "code",
   "execution_count": 19,
   "metadata": {},
   "outputs": [],
   "source": [
    "#mapping to t matrix (I took this function from the TAC tutorial, still has to be imported from separate script)\n",
    "\n",
    "def get_mapping_rules_labels_t(rule2label, num_classes):\n",
    "    \"\"\" Function calculates t matrix (rules x labels) using the known correspondence of relations to decision rules \"\"\"\n",
    "    mapping_rules_labels_t = np.zeros([len(rule2label), num_classes])\n",
    "    for rule, labels in rule2label.items():\n",
    "        mapping_rules_labels_t[rule, labels] = 1\n",
    "    return mapping_rules_labels_t\n",
    "\n",
    "mapping_rules_labels_t = get_mapping_rules_labels_t(rule2label, num_classes)"
   ]
  },
  {
   "cell_type": "markdown",
   "metadata": {},
   "source": [
    "## Building the Z matrix"
   ]
  },
  {
   "cell_type": "markdown",
   "metadata": {},
   "source": [
    "**Getting the train data. Fastest solution I could find, but takes still quite long.**"
   ]
  },
  {
   "cell_type": "code",
   "execution_count": 20,
   "metadata": {},
   "outputs": [],
   "source": [
    "def get_data_dicts(data, rule2rule_id):\n",
    "#creating a dictionary for each sample, which will be a row in the df\n",
    "\n",
    "    data_dicts_empty = []\n",
    "\n",
    "    for sample in data[\"samples\"].drop_duplicates():\n",
    "        data_dict = dict({})\n",
    "        data_dict[\"samples\"] = sample\n",
    "        data_dict[\"rules\"] = []\n",
    "        data_dict[\"enc_rules\"] = []\n",
    "        \n",
    "        data_dicts_empty.append(data_dict)\n",
    "        \n",
    "    return data_dicts_empty\n",
    "\n",
    "\n",
    "def get_data_for_dicts(data_dicts):\n",
    "#adding the rules and the corresponding IDs to the dictionaries of each sample\n",
    "\n",
    "    for rule, rule_id in tqdm(rule2rule_id.items()):\n",
    "        for data_dict in data_dicts:\n",
    "            sample = data_dict[\"samples\"]\n",
    "            if re.search(rule, sample.lower()):\n",
    "                data_dict[\"rules\"].append(rule)\n",
    "                data_dict[\"enc_rules\"].append(rule_id)\n",
    "                \n",
    "    return data_dicts\n",
    "\n",
    "\n",
    "def get_df(data, rule2rule_id):\n",
    "# converting the list of dicts in a df\n",
    "    \n",
    "    data_dicts_empty = get_data_dicts(data, rule2rule_id)\n",
    "    data_dicts = get_data_for_dicts(data_dicts_empty)\n",
    "    df = pd.DataFrame.from_dict(data_dicts)\n",
    "    df = df.reset_index()\n",
    "       \n",
    "    return df"
   ]
  },
  {
   "cell_type": "code",
   "execution_count": 22,
   "metadata": {},
   "outputs": [
    {
     "name": "stderr",
     "output_type": "stream",
     "text": [
      "100%|██████████████████████████████████████████████████████████████████████████████| 3762/3762 [11:02<00:00,  5.68it/s]\n"
     ]
    }
   ],
   "source": [
    "train_data = get_df(df_train, rule2rule_id)"
   ]
  },
  {
   "cell_type": "markdown",
   "metadata": {},
   "source": [
    "**getting the dev and test data**\n",
    "\n",
    "(same as for the train data, moreover the labels and label_ids are added)"
   ]
  },
  {
   "cell_type": "code",
   "execution_count": 23,
   "metadata": {},
   "outputs": [],
   "source": [
    "def getting_test_data(rule2rule_id, data, label_id2label):\n",
    "\n",
    "    test_data_without_labels = get_df(data, rule2rule_id)\n",
    "    test_data = test_data_without_labels.merge(data, how='inner').rename(columns={\"label\": \"enc_labels\"})\n",
    "    test_data[\"labels\"] = test_data['enc_labels'].map(label_id2label)\n",
    "    \n",
    "    return test_data"
   ]
  },
  {
   "cell_type": "code",
   "execution_count": 24,
   "metadata": {},
   "outputs": [
    {
     "name": "stderr",
     "output_type": "stream",
     "text": [
      "100%|██████████████████████████████████████████████████████████████████████████████| 3762/3762 [02:19<00:00, 26.88it/s]\n",
      "100%|██████████████████████████████████████████████████████████████████████████████| 3762/3762 [03:17<00:00, 19.06it/s]\n"
     ]
    },
    {
     "data": {
      "text/html": [
       "<div>\n",
       "<style scoped>\n",
       "    .dataframe tbody tr th:only-of-type {\n",
       "        vertical-align: middle;\n",
       "    }\n",
       "\n",
       "    .dataframe tbody tr th {\n",
       "        vertical-align: top;\n",
       "    }\n",
       "\n",
       "    .dataframe thead th {\n",
       "        text-align: right;\n",
       "    }\n",
       "</style>\n",
       "<table border=\"1\" class=\"dataframe\">\n",
       "  <thead>\n",
       "    <tr style=\"text-align: right;\">\n",
       "      <th></th>\n",
       "      <th>index</th>\n",
       "      <th>samples</th>\n",
       "      <th>rules</th>\n",
       "      <th>enc_rules</th>\n",
       "      <th>enc_labels</th>\n",
       "      <th>labels</th>\n",
       "    </tr>\n",
       "  </thead>\n",
       "  <tbody>\n",
       "    <tr>\n",
       "      <th>0</th>\n",
       "      <td>0</td>\n",
       "      <td>old TARGET , who suffered from schizophrenia ,...</td>\n",
       "      <td>[]</td>\n",
       "      <td>[]</td>\n",
       "      <td>0</td>\n",
       "      <td>negative</td>\n",
       "    </tr>\n",
       "    <tr>\n",
       "      <th>1</th>\n",
       "      <td>1</td>\n",
       "      <td>The killing of the woman , TARGET , 66 , who w...</td>\n",
       "      <td>[]</td>\n",
       "      <td>[]</td>\n",
       "      <td>0</td>\n",
       "      <td>negative</td>\n",
       "    </tr>\n",
       "    <tr>\n",
       "      <th>2</th>\n",
       "      <td>2</td>\n",
       "      <td>TARGET eleland@charlotteobserver.com Violent p...</td>\n",
       "      <td>[]</td>\n",
       "      <td>[]</td>\n",
       "      <td>0</td>\n",
       "      <td>negative</td>\n",
       "    </tr>\n",
       "    <tr>\n",
       "      <th>3</th>\n",
       "      <td>3</td>\n",
       "      <td>TARGET eleland@charlotteobserver.com Two days ...</td>\n",
       "      <td>[]</td>\n",
       "      <td>[]</td>\n",
       "      <td>0</td>\n",
       "      <td>negative</td>\n",
       "    </tr>\n",
       "    <tr>\n",
       "      <th>4</th>\n",
       "      <td>4</td>\n",
       "      <td>Six months have passed since Midlothian fitnes...</td>\n",
       "      <td>[]</td>\n",
       "      <td>[]</td>\n",
       "      <td>0</td>\n",
       "      <td>negative</td>\n",
       "    </tr>\n",
       "  </tbody>\n",
       "</table>\n",
       "</div>"
      ],
      "text/plain": [
       "   index                                            samples rules enc_rules  \\\n",
       "0      0  old TARGET , who suffered from schizophrenia ,...    []        []   \n",
       "1      1  The killing of the woman , TARGET , 66 , who w...    []        []   \n",
       "2      2  TARGET eleland@charlotteobserver.com Violent p...    []        []   \n",
       "3      3  TARGET eleland@charlotteobserver.com Two days ...    []        []   \n",
       "4      4  Six months have passed since Midlothian fitnes...    []        []   \n",
       "\n",
       "   enc_labels    labels  \n",
       "0           0  negative  \n",
       "1           0  negative  \n",
       "2           0  negative  \n",
       "3           0  negative  \n",
       "4           0  negative  "
      ]
     },
     "execution_count": 24,
     "metadata": {},
     "output_type": "execute_result"
    }
   ],
   "source": [
    "dev_data = getting_test_data(rule2rule_id, df_dev, label_id2label)\n",
    "test_data = getting_test_data(rule2rule_id, df_test, label_id2label)\n",
    "test_data.head()"
   ]
  },
  {
   "cell_type": "markdown",
   "metadata": {},
   "source": [
    "**converting to sparse matrix**"
   ]
  },
  {
   "cell_type": "code",
   "execution_count": 26,
   "metadata": {},
   "outputs": [],
   "source": [
    "def get_rule_matches_z_matrix(df):\n",
    "\n",
    "    \"\"\"\n",
    "    creating a sparse matrix with instances as rows and rules as columns, 1 if the rule matches the instance\n",
    "    \"\"\"\n",
    "    z_array = np.zeros((len(df[\"index\"].values), len(rule2rule_id)))\n",
    "\n",
    "    for index in tqdm(df[\"index\"]):\n",
    "        enc_rules = df.iloc[index-1]['enc_rules']\n",
    "        for enc_rule in enc_rules:\n",
    "            z_array[index][enc_rule] = 1\n",
    "\n",
    "    rule_matches_z_matrix_sparse = sp.csr_matrix(z_array)\n",
    "\n",
    "    return rule_matches_z_matrix_sparse"
   ]
  },
  {
   "cell_type": "code",
   "execution_count": 27,
   "metadata": {},
   "outputs": [
    {
     "name": "stderr",
     "output_type": "stream",
     "text": [
      "100%|███████████████████████████████████████████████████████████████████████| 132680/132680 [00:13<00:00, 10107.34it/s]\n",
      "100%|██████████████████████████████████████████████████████████████████████████| 27570/27570 [00:02<00:00, 9662.81it/s]\n",
      "100%|██████████████████████████████████████████████████████████████████████████| 41355/41355 [00:04<00:00, 9949.71it/s]\n"
     ]
    }
   ],
   "source": [
    "train_rule_matches_z = get_rule_matches_z_matrix(train_data)\n",
    "dev_rule_matches_z = get_rule_matches_z_matrix(dev_data)\n",
    "test_rule_matches_z = get_rule_matches_z_matrix(test_data)"
   ]
  },
  {
   "cell_type": "markdown",
   "metadata": {},
   "source": [
    "## saving the files"
   ]
  },
  {
   "cell_type": "code",
   "execution_count": 30,
   "metadata": {},
   "outputs": [
    {
     "data": {
      "text/plain": [
       "['C:/Users/Emilie/Uni/2021WS/DS_project/data/police_killing\\\\processed_own_rules\\\\test_rule_matches_z.lib']"
      ]
     },
     "execution_count": 30,
     "metadata": {},
     "output_type": "execute_result"
    }
   ],
   "source": [
    "Path(os.path.join(data_path, \"processed_own_rules\")).mkdir(parents=True, exist_ok=True)\n",
    "\n",
    "dump(sp.csr_matrix(mapping_rules_labels_t), os.path.join(data_path, \"processed_own_rules\", T_MATRIX_OUTPUT_TRAIN))\n",
    "\n",
    "dump(train_data[\"samples\"], os.path.join(data_path, \"processed_own_rules\", TRAIN_SAMPLES_OUTPUT))\n",
    "train_data[\"samples\"].to_csv(os.path.join(data_path, \"processed_own_rules\", TRAIN_SAMPLES_OUTPUT_CSV), header=True)\n",
    "dump(train_rule_matches_z, os.path.join(data_path, \"processed_own_rules\", Z_MATRIX_OUTPUT_TRAIN))\n",
    "\n",
    "dump(dev_data[[\"samples\", \"labels\", \"enc_labels\"]], os.path.join(data_path, \"processed_own_rules\", DEV_SAMPLES_OUTPUT))\n",
    "dev_data[[\"samples\", \"labels\", \"enc_labels\"]].to_csv(os.path.join(data_path, \"processed_own_rules\", DEV_SAMPLES_OUTPUT_CSV), header=True)\n",
    "dump(dev_rule_matches_z, os.path.join(data_path, \"processed_own_rules\", Z_MATRIX_OUTPUT_DEV))\n",
    "\n",
    "dump(test_data[[\"samples\", \"labels\", \"enc_labels\"]], os.path.join(data_path, \"processed_own_rules\", TEST_SAMPLES_OUTPUT))\n",
    "test_data[[\"samples\", \"labels\", \"enc_labels\"]].to_csv(os.path.join(data_path, \"processed_own_rules\", TEST_SAMPLES_OUTPUT_CSV), header=True)\n",
    "dump(test_rule_matches_z, os.path.join(data_path, \"processed_own_rules\", Z_MATRIX_OUTPUT_TEST))"
   ]
  },
  {
   "cell_type": "code",
   "execution_count": null,
   "metadata": {},
   "outputs": [],
   "source": []
  }
 ],
 "metadata": {
  "kernelspec": {
   "display_name": "Python 3",
   "language": "python",
   "name": "python3"
  },
  "language_info": {
   "codemirror_mode": {
    "name": "ipython",
    "version": 3
   },
   "file_extension": ".py",
   "mimetype": "text/x-python",
   "name": "python",
   "nbconvert_exporter": "python",
   "pygments_lexer": "ipython3",
   "version": "3.8.5"
  }
 },
 "nbformat": 4,
 "nbformat_minor": 4
}
