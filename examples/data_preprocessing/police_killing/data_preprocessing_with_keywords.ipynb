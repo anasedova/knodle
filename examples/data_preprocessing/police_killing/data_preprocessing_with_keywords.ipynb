{
 "cells": [
  {
   "cell_type": "markdown",
   "metadata": {},
   "source": [
    "# Police Killing Dataset: Data Preprocessing with Keywords"
   ]
  },
  {
   "cell_type": "markdown",
   "metadata": {},
   "source": [
    "The aim of this project is to find names of people killed by the police in a corpus of news paper articles. The corpus was created by Katherine A. Keith et al. (2017) for a similar task using distant supervision. This dataset contains mentions of people (based on keywords related to “killing” or “police”) who might have been killed by the police. The dataset (the HTML documents scraped in 2016 themselves as well as the already sentence-segmented data) are available on the [project’s website](http://slanglab.cs.umass.edu/PoliceKillingsExtraction/) and on [MinIO]( https://knodle.dm.univie.ac.at/minio/knodle/datasets/police_killing/). \n",
    "There is a train and a test dataset, both of them containing dictionaries with the following keys:\n",
    "\n",
    "-\tdocid: unique identifiers of every mention of a person possible killed by the police\n",
    "-\tname: the normalized name of the person\n",
    "-\tdownloadtime: time the document was downloaded\n",
    "-\tnames_org: the original name of the person mentioned in the document\n",
    "-\tsentnames: other names in the mention (not of the person possibly killed by the police)\n",
    "-\tsent_alter: the mention, name of the person possible killed by the policed replaced by “TARGET”, any other names replaced by “POLICE”\n",
    "-\tplabel: for the training data possibly erroneous labels obtained using weak supervision and gold labels for the test data – in this project, only the labels of the test data will be used\n",
    "-\tsent_org: the original mention\n",
    "\n",
    "Compared to the [Data Preprocessing with RegExt Tutorial](https://github.com/knodle/knodle/blob/feature/%23299_police_killing_dataset/examples/data_preprocessing/police_killing/data_preprocessing_with_regex.ipynb), where RegEx are used in order to cover various different ways a sentence might indiciate that someone was killed by the police, the rules that are used in this tutorial are simple word pairs (one of the killing and one of the police related keywords each). A rule matches a sample if both of the words in the wordpair are part of the sample. Except the rules that are used, everything is done in the same way as in the alternative tutorial. \n",
    "\n",
    "\n",
    "Reference: Keith, Kathrine A. et al. (2017): Identifying civilians killed by police with distantly supervised entity-event extraction. In: Proceedings of the 2017 Conference on Empirical Methods in Natural Language Processing. doi: [10.18653/v1/D17-1163](https://aclanthology.org/D17-1163/)"
   ]
  },
  {
   "cell_type": "markdown",
   "metadata": {},
   "source": [
    "## Imports"
   ]
  },
  {
   "cell_type": "code",
   "execution_count": 1,
   "metadata": {},
   "outputs": [],
   "source": [
    "import pandas as pd\n",
    "import json\n",
    "import os\n",
    "import numpy as np\n",
    "import re\n",
    "import sys\n",
    "import scipy.sparse as sp\n",
    "\n",
    "from tqdm import tqdm\n",
    "from pathlib import Path\n",
    "from joblib import dump\n",
    "from typing import List, Dict\n",
    "\n",
    "from minio import Minio\n",
    "\n",
    "sys.path.append('..')\n",
    "from data_to_mapping_rules_labels_t import get_mapping_rules_labels_t"
   ]
  },
  {
   "cell_type": "markdown",
   "metadata": {},
   "source": [
    "## Get the data\n",
    "\n",
    "First of all, the file names for the output at the end of this notebook are defined. After that, the raw data can be downloaded from MinIO."
   ]
  },
  {
   "cell_type": "code",
   "execution_count": 2,
   "metadata": {},
   "outputs": [
    {
     "data": {
      "text/plain": [
       "'../../../data_from_minio/police_killing'"
      ]
     },
     "execution_count": 2,
     "metadata": {},
     "output_type": "execute_result"
    }
   ],
   "source": [
    "# define the files names\n",
    "Z_MATRIX_TRAIN = \"train_rule_matches_z.lib\"\n",
    "Z_MATRIX_DEV = \"dev_rule_matches_z.lib\"\n",
    "Z_MATRIX_TEST = \"test_rule_matches_z.lib\"\n",
    "\n",
    "T_MATRIX_TRAIN = \"mapping_rules_labels_t.lib\"\n",
    "\n",
    "TRAIN_SAMPLES_OUTPUT = \"df_train.lib\"\n",
    "DEV_SAMPLES_OUTPUT = \"df_dev.lib\"\n",
    "TEST_SAMPLES_OUTPUT = \"df_test.lib\"\n",
    "\n",
    "# file names for .csv files\n",
    "TRAIN_SAMPLES_CSV = \"df_train.csv\"\n",
    "DEV_SAMPLES_CSV = \"df_dev.csv\"\n",
    "TEST_SAMPLES_CSV = \"df_test.csv\"\n",
    "\n",
    "# define the path to the folder where the data will be stored\n",
    "data_path = \"../../../data_from_minio/police_killing\"\n",
    "os.makedirs(data_path, exist_ok=True)\n",
    "os.path.join(data_path)"
   ]
  },
  {
   "cell_type": "code",
   "execution_count": 3,
   "metadata": {},
   "outputs": [
    {
     "name": "stderr",
     "output_type": "stream",
     "text": [
      "100%|████████████████████████████████████████████████████████████████████████████████████| 3/3 [00:07<00:00,  2.55s/it]\n"
     ]
    }
   ],
   "source": [
    "client = Minio(\"knodle.cc\", secure=False)\n",
    "files = [\n",
    "    \"train.json\", \"test.json\", \"keywords.csv\"\n",
    "]\n",
    "for file in tqdm(files):\n",
    "    client.fget_object(\n",
    "        bucket_name=\"knodle\",\n",
    "        object_name=os.path.join(\"datasets/police_killing/\", file),\n",
    "        file_path=os.path.join(data_path, file),\n",
    "    )"
   ]
  },
  {
   "cell_type": "markdown",
   "metadata": {},
   "source": [
    "**Get the keywords**\n",
    "\n",
    "Downloading the keywords from MiniO that will later be used to create the rules."
   ]
  },
  {
   "cell_type": "code",
   "execution_count": 4,
   "metadata": {},
   "outputs": [],
   "source": [
    "keywords = pd.read_csv(os.path.join(data_path, \"keywords.csv\"))"
   ]
  },
  {
   "cell_type": "markdown",
   "metadata": {},
   "source": [
    "**Get the Train data**\n",
    "\n",
    "We read the downloaded data and convert it to a Pandas Dataframe. For now, we take only the samples for the train data and the samples as well as the labels for the test data. In the end, we will also need the name of the person in case it turns out they were killed by the police. However, in this step their name should be replaced by the TARGET symbol. Therefore, we only take the values for the \"sent_alter\" key and rename them to \"samples\"."
   ]
  },
  {
   "cell_type": "code",
   "execution_count": 5,
   "metadata": {},
   "outputs": [],
   "source": [
    "def get_train_data(data_path: str) ->pd.DataFrame:\n",
    "    with open(os.path.join(data_path, \"train.json\"), 'r') as data:\n",
    "        train_data = [json.loads(line) for line in data] # a list of dicts\n",
    "    df_train_sent_alter = pd.DataFrame(train_data, columns = [\"sent_alter\"]).rename(columns={\"sent_alter\": \"samples\"})\n",
    "    return df_train_sent_alter\n",
    "\n",
    "df_train = get_train_data(data_path)"
   ]
  },
  {
   "cell_type": "code",
   "execution_count": 6,
   "metadata": {},
   "outputs": [
    {
     "data": {
      "text/html": [
       "<div>\n",
       "<style scoped>\n",
       "    .dataframe tbody tr th:only-of-type {\n",
       "        vertical-align: middle;\n",
       "    }\n",
       "\n",
       "    .dataframe tbody tr th {\n",
       "        vertical-align: top;\n",
       "    }\n",
       "\n",
       "    .dataframe thead th {\n",
       "        text-align: right;\n",
       "    }\n",
       "</style>\n",
       "<table border=\"1\" class=\"dataframe\">\n",
       "  <thead>\n",
       "    <tr style=\"text-align: right;\">\n",
       "      <th></th>\n",
       "      <th>samples</th>\n",
       "    </tr>\n",
       "  </thead>\n",
       "  <tbody>\n",
       "    <tr>\n",
       "      <th>0</th>\n",
       "      <td>Two years earlier , Officer TARGET was killed ...</td>\n",
       "    </tr>\n",
       "    <tr>\n",
       "      <th>1</th>\n",
       "      <td>Police Chief PERSON said Randolph was found sh...</td>\n",
       "    </tr>\n",
       "    <tr>\n",
       "      <th>2</th>\n",
       "      <td>In the latest incident , Chief Superintendent ...</td>\n",
       "    </tr>\n",
       "    <tr>\n",
       "      <th>3</th>\n",
       "      <td>Chief TARGET of Penn Township police entered t...</td>\n",
       "    </tr>\n",
       "    <tr>\n",
       "      <th>4</th>\n",
       "      <td>A man was was fatally shot by a police officer...</td>\n",
       "    </tr>\n",
       "  </tbody>\n",
       "</table>\n",
       "</div>"
      ],
      "text/plain": [
       "                                             samples\n",
       "0  Two years earlier , Officer TARGET was killed ...\n",
       "1  Police Chief PERSON said Randolph was found sh...\n",
       "2  In the latest incident , Chief Superintendent ...\n",
       "3  Chief TARGET of Penn Township police entered t...\n",
       "4  A man was was fatally shot by a police officer..."
      ]
     },
     "execution_count": 6,
     "metadata": {},
     "output_type": "execute_result"
    }
   ],
   "source": [
    "df_train.head()"
   ]
  },
  {
   "cell_type": "markdown",
   "metadata": {},
   "source": [
    "**Get the Dev and Test Data**\n",
    "\n",
    "Since the [SLANG Lab](http://slanglab.cs.umass.edu/PoliceKillingsExtraction/) provides only train and test data, but no development data, the part of the test data will be used as a development set. The samples for the development data will be selected randomly to avoid imbalances of positive and negative samples in dev and test data.\n",
    "\n",
    "The parameter *used_as_dev* reflects the amount of the gold data that should be used for development instead of testing. It is set to 30% for now, but can be changed depending on the task definition."
   ]
  },
  {
   "cell_type": "code",
   "execution_count": 7,
   "metadata": {},
   "outputs": [
    {
     "name": "stdout",
     "output_type": "stream",
     "text": [
      "30% of the test data will be used for develoment.\n"
     ]
    }
   ],
   "source": [
    "used_as_dev = 30\n",
    "print(f\"{used_as_dev}% of the test data will be used for develoment.\")"
   ]
  },
  {
   "cell_type": "code",
   "execution_count": 8,
   "metadata": {},
   "outputs": [],
   "source": [
    "def get_dev_test_data(data_path: str) -> pd.DataFrame:\n",
    "    with open(os.path.join(data_path, \"test.json\"), 'r') as data:\n",
    "        dev_test_data = [json.loads(line) for line in data]\n",
    "    dev_test_sent_alter = pd.DataFrame(dev_test_data, columns = [\"sent_alter\", \"plabel\"]).rename(columns={\"sent_alter\": \"samples\", \"plabel\": \"label\"})\n",
    "    df_dev = dev_test_sent_alter.sample(n = int(round((dev_test_sent_alter.shape[0]/100)*used_as_dev))).reset_index(drop = True)\n",
    "    df_test = dev_test_sent_alter.drop(df_dev.index).reset_index(drop = True)\n",
    "    return df_dev, df_test"
   ]
  },
  {
   "cell_type": "code",
   "execution_count": 9,
   "metadata": {},
   "outputs": [],
   "source": [
    "df_dev, df_test = get_dev_test_data(data_path)"
   ]
  },
  {
   "cell_type": "markdown",
   "metadata": {},
   "source": [
    "### Some Statistics: "
   ]
  },
  {
   "cell_type": "code",
   "execution_count": 10,
   "metadata": {},
   "outputs": [
    {
     "name": "stdout",
     "output_type": "stream",
     "text": [
      "Number of samples:\n",
      "Train data: 132833\n",
      "Development data: 20678\n",
      "Test data: 48247\n"
     ]
    }
   ],
   "source": [
    "# Count of samples\n",
    "\n",
    "print(f\"Number of samples:\")\n",
    "print(f\"Train data: {df_train.shape[0]}\")\n",
    "print(f\"Development data: {df_dev.shape[0]}\")\n",
    "print(f\"Test data: {df_test.shape[0]}\")"
   ]
  },
  {
   "cell_type": "code",
   "execution_count": 11,
   "metadata": {},
   "outputs": [
    {
     "name": "stdout",
     "output_type": "stream",
     "text": [
      "In the develoment data, 4378 (21.17226037334365%) instances are positive and 16300 instances (78.82773962665635%) are negative.\n",
      "In the test data, 8878 (18.40114411258731%) instances are positive and 39369 instances (81.5988558874127%) are negative.\n"
     ]
    }
   ],
   "source": [
    "# Positive and negative instances in dev and test data\n",
    "positive_dev = df_dev.groupby(\"label\").count()[\"samples\"][1]\n",
    "negative_dev = df_dev.groupby(\"label\").count()[\"samples\"][0]\n",
    "positive_test = df_test.groupby(\"label\").count()[\"samples\"][1]\n",
    "negative_test = df_test.groupby(\"label\").count()[\"samples\"][0]\n",
    "print(f\"In the develoment data, {positive_dev} ({(100/df_dev.shape[0])*positive_dev}%) instances are positive and {negative_dev} instances ({(100/df_dev.shape[0])*negative_dev}%) are negative.\")\n",
    "print(f\"In the test data, {positive_test} ({(100/df_test.shape[0])*positive_test}%) instances are positive and {negative_test} instances ({(100/df_test.shape[0])*negative_test}%) are negative.\")"
   ]
  },
  {
   "cell_type": "code",
   "execution_count": 12,
   "metadata": {},
   "outputs": [
    {
     "data": {
      "text/html": [
       "<div>\n",
       "<style scoped>\n",
       "    .dataframe tbody tr th:only-of-type {\n",
       "        vertical-align: middle;\n",
       "    }\n",
       "\n",
       "    .dataframe tbody tr th {\n",
       "        vertical-align: top;\n",
       "    }\n",
       "\n",
       "    .dataframe thead th {\n",
       "        text-align: right;\n",
       "    }\n",
       "</style>\n",
       "<table border=\"1\" class=\"dataframe\">\n",
       "  <thead>\n",
       "    <tr style=\"text-align: right;\">\n",
       "      <th></th>\n",
       "      <th>samples</th>\n",
       "      <th>label</th>\n",
       "    </tr>\n",
       "  </thead>\n",
       "  <tbody>\n",
       "    <tr>\n",
       "      <th>0</th>\n",
       "      <td>PERSON had been charged for killing his collea...</td>\n",
       "      <td>0</td>\n",
       "    </tr>\n",
       "    <tr>\n",
       "      <th>1</th>\n",
       "      <td>The two people killed were PERSON 14 , and TAR...</td>\n",
       "      <td>0</td>\n",
       "    </tr>\n",
       "    <tr>\n",
       "      <th>2</th>\n",
       "      <td>More from this story Palm Springs police offic...</td>\n",
       "      <td>0</td>\n",
       "    </tr>\n",
       "    <tr>\n",
       "      <th>3</th>\n",
       "      <td>On April 22 , 2015 , Portsmouth officer TARGET...</td>\n",
       "      <td>0</td>\n",
       "    </tr>\n",
       "    <tr>\n",
       "      <th>4</th>\n",
       "      <td>old TARGET was shot to death by Eureka police ...</td>\n",
       "      <td>1</td>\n",
       "    </tr>\n",
       "  </tbody>\n",
       "</table>\n",
       "</div>"
      ],
      "text/plain": [
       "                                             samples  label\n",
       "0  PERSON had been charged for killing his collea...      0\n",
       "1  The two people killed were PERSON 14 , and TAR...      0\n",
       "2  More from this story Palm Springs police offic...      0\n",
       "3  On April 22 , 2015 , Portsmouth officer TARGET...      0\n",
       "4  old TARGET was shot to death by Eureka police ...      1"
      ]
     },
     "execution_count": 12,
     "metadata": {},
     "output_type": "execute_result"
    }
   ],
   "source": [
    "df_dev.head()"
   ]
  },
  {
   "cell_type": "code",
   "execution_count": 13,
   "metadata": {},
   "outputs": [
    {
     "data": {
      "text/html": [
       "<div>\n",
       "<style scoped>\n",
       "    .dataframe tbody tr th:only-of-type {\n",
       "        vertical-align: middle;\n",
       "    }\n",
       "\n",
       "    .dataframe tbody tr th {\n",
       "        vertical-align: top;\n",
       "    }\n",
       "\n",
       "    .dataframe thead th {\n",
       "        text-align: right;\n",
       "    }\n",
       "</style>\n",
       "<table border=\"1\" class=\"dataframe\">\n",
       "  <thead>\n",
       "    <tr style=\"text-align: right;\">\n",
       "      <th></th>\n",
       "      <th>samples</th>\n",
       "      <th>label</th>\n",
       "    </tr>\n",
       "  </thead>\n",
       "  <tbody>\n",
       "    <tr>\n",
       "      <th>0</th>\n",
       "      <td>[ ] TARGET / Chicago Tribune Lake County Major...</td>\n",
       "      <td>0</td>\n",
       "    </tr>\n",
       "    <tr>\n",
       "      <th>1</th>\n",
       "      <td>Round Lake police shooting Round Lake police s...</td>\n",
       "      <td>0</td>\n",
       "    </tr>\n",
       "    <tr>\n",
       "      <th>2</th>\n",
       "      <td>PERSON shooting PERSON shooting TARGET / Chica...</td>\n",
       "      <td>0</td>\n",
       "    </tr>\n",
       "    <tr>\n",
       "      <th>3</th>\n",
       "      <td>Scene of Round Lake police shooting Scene of R...</td>\n",
       "      <td>0</td>\n",
       "    </tr>\n",
       "    <tr>\n",
       "      <th>4</th>\n",
       "      <td>involved shooting TARGET / Chicago Tribune The...</td>\n",
       "      <td>0</td>\n",
       "    </tr>\n",
       "  </tbody>\n",
       "</table>\n",
       "</div>"
      ],
      "text/plain": [
       "                                             samples  label\n",
       "0  [ ] TARGET / Chicago Tribune Lake County Major...      0\n",
       "1  Round Lake police shooting Round Lake police s...      0\n",
       "2  PERSON shooting PERSON shooting TARGET / Chica...      0\n",
       "3  Scene of Round Lake police shooting Scene of R...      0\n",
       "4  involved shooting TARGET / Chicago Tribune The...      0"
      ]
     },
     "execution_count": 13,
     "metadata": {},
     "output_type": "execute_result"
    }
   ],
   "source": [
    "df_test.head()"
   ]
  },
  {
   "cell_type": "markdown",
   "metadata": {},
   "source": [
    "### Output classes\n",
    "\n",
    "Our task is to find out whether a sentence describes the killing of a person by the police or does not. That means, it is a binary classification task with two output classes. The number of classes is defined with the *num_classes* parameter."
   ]
  },
  {
   "cell_type": "code",
   "execution_count": 14,
   "metadata": {},
   "outputs": [],
   "source": [
    "num_classes = 2"
   ]
  },
  {
   "cell_type": "markdown",
   "metadata": {},
   "source": [
    "## Get the rules"
   ]
  },
  {
   "cell_type": "markdown",
   "metadata": {},
   "source": [
    "In the paper of Keith et al. (2017), two lists of police- and killing-related words are used to extract the relevant mentions: \n",
    "\n",
    "\"*These lists were semi-automatically constructed by looking up the nearest neighbors of “police” and “kill” (by cosine distance) from Google’s public release of word2vec vectors pretrained on a very large (proprietary) Google News corpus and then manually excluding a small number of misspelled words or redundant capitalizations (e.g. “Police” and “police”).*\" (Keith et al. p. 11)\n",
    "\n",
    "The keywords are saved in a CSV file that we have already downloaded and read in as a Pandas Dataframe. Now we will use it to create the rules. Each rule is a pair of a police and a killing word, both of these words must appear in the sample."
   ]
  },
  {
   "cell_type": "code",
   "execution_count": 15,
   "metadata": {},
   "outputs": [
    {
     "name": "stdout",
     "output_type": "stream",
     "text": [
      "The table file contains 22 police-related words (in the following called 'police_words') and 20 killing-related words ('kill_words').\n"
     ]
    },
    {
     "data": {
      "text/html": [
       "<div>\n",
       "<style scoped>\n",
       "    .dataframe tbody tr th:only-of-type {\n",
       "        vertical-align: middle;\n",
       "    }\n",
       "\n",
       "    .dataframe tbody tr th {\n",
       "        vertical-align: top;\n",
       "    }\n",
       "\n",
       "    .dataframe thead th {\n",
       "        text-align: right;\n",
       "    }\n",
       "</style>\n",
       "<table border=\"1\" class=\"dataframe\">\n",
       "  <thead>\n",
       "    <tr style=\"text-align: right;\">\n",
       "      <th></th>\n",
       "      <th>police_words</th>\n",
       "      <th>kill_words</th>\n",
       "    </tr>\n",
       "  </thead>\n",
       "  <tbody>\n",
       "    <tr>\n",
       "      <th>0</th>\n",
       "      <td>police</td>\n",
       "      <td>kill</td>\n",
       "    </tr>\n",
       "    <tr>\n",
       "      <th>1</th>\n",
       "      <td>officer</td>\n",
       "      <td>kills</td>\n",
       "    </tr>\n",
       "    <tr>\n",
       "      <th>2</th>\n",
       "      <td>officers</td>\n",
       "      <td>killing</td>\n",
       "    </tr>\n",
       "    <tr>\n",
       "      <th>3</th>\n",
       "      <td>cop</td>\n",
       "      <td>killings</td>\n",
       "    </tr>\n",
       "    <tr>\n",
       "      <th>4</th>\n",
       "      <td>cops</td>\n",
       "      <td>killed</td>\n",
       "    </tr>\n",
       "  </tbody>\n",
       "</table>\n",
       "</div>"
      ],
      "text/plain": [
       "  police_words kill_words\n",
       "0       police       kill\n",
       "1      officer      kills\n",
       "2     officers    killing\n",
       "3          cop   killings\n",
       "4         cops     killed"
      ]
     },
     "execution_count": 15,
     "metadata": {},
     "output_type": "execute_result"
    }
   ],
   "source": [
    "print(f\"The table file contains {keywords.shape[0]} police-related words (in the following called 'police_words') and {keywords.dropna().shape[0]} killing-related words ('kill_words').\")\n",
    "keywords.head()"
   ]
  },
  {
   "cell_type": "markdown",
   "metadata": {},
   "source": [
    "In the first step, all possible word pairs are created and added to a dictionary as keys. The values are their unique rule IDs."
   ]
  },
  {
   "cell_type": "code",
   "execution_count": 16,
   "metadata": {},
   "outputs": [],
   "source": [
    "def get_rule2id(keywords: pd.DataFrame) -> Dict:\n",
    "    rule2rule_id = {}\n",
    "    rule_id = 0\n",
    "    for police_word in keywords[\"police_words\"]:\n",
    "        for kill_word in keywords[\"kill_words\"].dropna():\n",
    "            rule2rule_id[f'{police_word} {kill_word}'] = rule_id\n",
    "            rule_id += 1\n",
    "    return rule2rule_id\n",
    "\n",
    "rule2rule_id = get_rule2id(keywords)"
   ]
  },
  {
   "cell_type": "markdown",
   "metadata": {},
   "source": [
    "Secondly, we create a dictionary assigning all rules to their label. There are only two classes (someone was killed by the police or was not killed by the police). Since there are no rules indicating that someone was **not** killed by the police, all rules indicate the positive class 1. Therefore, all values of the rule2label dictionary, containing the rule IDs as keys, can be set to 1."
   ]
  },
  {
   "cell_type": "code",
   "execution_count": 17,
   "metadata": {},
   "outputs": [],
   "source": [
    "rule2label = {rule_id: 1 for rule_id in rule2rule_id.values()}"
   ]
  },
  {
   "cell_type": "markdown",
   "metadata": {},
   "source": [
    "Thirdly, a dictionary mapping the labels to their ID as well as a dictionary mapping the ID to the corresponding label are required for the further preprocessing. As there are only two classes, this can be done manually. "
   ]
  },
  {
   "cell_type": "code",
   "execution_count": 18,
   "metadata": {},
   "outputs": [],
   "source": [
    "label2label_id ={\"negative\":0, \"positive\":1}\n",
    "label_id2label = {0: \"negative\", 1: \"positive\"}"
   ]
  },
  {
   "cell_type": "markdown",
   "metadata": {},
   "source": [
    "## Build the T matrix (rules x classes)"
   ]
  },
  {
   "cell_type": "markdown",
   "metadata": {},
   "source": [
    "The rows of the T matrix are the rules and the columns the classes. The T matrix is one-hot encoded. (1 for a rule and its corresponding class.) It will be imported from the data_preprocessing folder of Knodle examples, since the same function can be used in several preprocessing tutorials. "
   ]
  },
  {
   "cell_type": "code",
   "execution_count": 19,
   "metadata": {},
   "outputs": [],
   "source": [
    "mapping_rules_labels_t = get_mapping_rules_labels_t(rule2label, num_classes)"
   ]
  },
  {
   "cell_type": "markdown",
   "metadata": {},
   "source": [
    "## Build the Z matrix (instances x rules)"
   ]
  },
  {
   "cell_type": "markdown",
   "metadata": {},
   "source": [
    "### Get the Train Data\n",
    "\n",
    "For now, the word pairs contained in the *rule2rule_id* dictionary are simple strings. To use them as actual rules, we should convert them to regexes firstly to be able to look for the exact words in the word pair. For example, the words in the rules must not end in another word character (a-z). If the killing word in a rule is, for instance, \\\"kill\\\", only sentences containing the word \\\"kill\\\" should be matched and no sentences containing words like \\\"kills\\\" or \\\"killed\\\" because there are separate rules for these words. (This is ensured by appending \"\\W\" - the word not followed by any letter - to both the police and the killing word contained in a rule.) Technically, it is realized by creating a dictionary containing the strings of word pairs as keys and a list of the corresponding RegEx as values.\n",
    "\n",
    "Secondly, we apply the regexes to the samples. In the beginning, everything is stored in a list of dictionaries (one for each individual sample in the train data). The dictionaries contain the sample, a list of the rules matched in it, and a list of the corresponding rule IDs. After that, we convert the list of dictionaries to a Pandas Dataframe."
   ]
  },
  {
   "cell_type": "code",
   "execution_count": 20,
   "metadata": {},
   "outputs": [],
   "source": [
    "def convert_rules2regex(rule2rule_id: Dict) -> Dict:\n",
    "       \n",
    "        return {rule: [f'{rule.split()[0]}\\W', f'{rule.split()[1]}\\W'] for rule in rule2rule_id}\n",
    "\n",
    "def get_data_for_df(data: pd.DataFrame, searches: Dict) -> List:\n",
    "\n",
    "    data_for_df = []\n",
    "\n",
    "    for sample in tqdm(data[\"samples\"].drop_duplicates()):\n",
    "        data_dict = {}\n",
    "        data_dict[\"samples\"] = sample\n",
    "        data_dict[\"rules\"] = []\n",
    "        data_dict[\"enc_rules\"] = []\n",
    "   \n",
    "        for rule, search in searches.items():\n",
    "            if re.search(search[0], sample.lower()) and re.search(search[1], sample.lower()):\n",
    "                data_dict[\"rules\"].append(rule)\n",
    "                data_dict[\"enc_rules\"].append(rule2rule_id[rule])\n",
    "\n",
    "        data_for_df.append(data_dict)\n",
    "\n",
    "    return data_for_df\n",
    "\n",
    "\n",
    "def get_df(rule2rule_id: Dict, data: pd.DataFrame) -> pd.DataFrame:\n",
    "    \n",
    "    searches = convert_rules2regex(rule2rule_id)\n",
    "    data_for_df = get_data_for_df(data, searches)\n",
    "    df = pd.DataFrame.from_dict(data_for_df)\n",
    "    df = df.reset_index()\n",
    "       \n",
    "    return(df)"
   ]
  },
  {
   "cell_type": "code",
   "execution_count": 21,
   "metadata": {},
   "outputs": [
    {
     "name": "stderr",
     "output_type": "stream",
     "text": [
      "100%|█████████████████████████████████████████████████████████████████████████| 132680/132680 [03:26<00:00, 641.42it/s]\n"
     ]
    },
    {
     "data": {
      "text/html": [
       "<div>\n",
       "<style scoped>\n",
       "    .dataframe tbody tr th:only-of-type {\n",
       "        vertical-align: middle;\n",
       "    }\n",
       "\n",
       "    .dataframe tbody tr th {\n",
       "        vertical-align: top;\n",
       "    }\n",
       "\n",
       "    .dataframe thead th {\n",
       "        text-align: right;\n",
       "    }\n",
       "</style>\n",
       "<table border=\"1\" class=\"dataframe\">\n",
       "  <thead>\n",
       "    <tr style=\"text-align: right;\">\n",
       "      <th></th>\n",
       "      <th>index</th>\n",
       "      <th>samples</th>\n",
       "      <th>rules</th>\n",
       "      <th>enc_rules</th>\n",
       "    </tr>\n",
       "  </thead>\n",
       "  <tbody>\n",
       "    <tr>\n",
       "      <th>0</th>\n",
       "      <td>0</td>\n",
       "      <td>Two years earlier , Officer TARGET was killed ...</td>\n",
       "      <td>[officer killed]</td>\n",
       "      <td>[24]</td>\n",
       "    </tr>\n",
       "    <tr>\n",
       "      <th>1</th>\n",
       "      <td>1</td>\n",
       "      <td>Police Chief PERSON said Randolph was found sh...</td>\n",
       "      <td>[police shot]</td>\n",
       "      <td>[5]</td>\n",
       "    </tr>\n",
       "    <tr>\n",
       "      <th>2</th>\n",
       "      <td>2</td>\n",
       "      <td>In the latest incident , Chief Superintendent ...</td>\n",
       "      <td>[police shots]</td>\n",
       "      <td>[6]</td>\n",
       "    </tr>\n",
       "    <tr>\n",
       "      <th>3</th>\n",
       "      <td>3</td>\n",
       "      <td>Chief TARGET of Penn Township police entered t...</td>\n",
       "      <td>[police shot]</td>\n",
       "      <td>[5]</td>\n",
       "    </tr>\n",
       "    <tr>\n",
       "      <th>4</th>\n",
       "      <td>4</td>\n",
       "      <td>A man was was fatally shot by a police officer...</td>\n",
       "      <td>[police shot, officer shot]</td>\n",
       "      <td>[5, 25]</td>\n",
       "    </tr>\n",
       "  </tbody>\n",
       "</table>\n",
       "</div>"
      ],
      "text/plain": [
       "   index                                            samples  \\\n",
       "0      0  Two years earlier , Officer TARGET was killed ...   \n",
       "1      1  Police Chief PERSON said Randolph was found sh...   \n",
       "2      2  In the latest incident , Chief Superintendent ...   \n",
       "3      3  Chief TARGET of Penn Township police entered t...   \n",
       "4      4  A man was was fatally shot by a police officer...   \n",
       "\n",
       "                         rules enc_rules  \n",
       "0             [officer killed]      [24]  \n",
       "1                [police shot]       [5]  \n",
       "2               [police shots]       [6]  \n",
       "3                [police shot]       [5]  \n",
       "4  [police shot, officer shot]   [5, 25]  "
      ]
     },
     "execution_count": 21,
     "metadata": {},
     "output_type": "execute_result"
    }
   ],
   "source": [
    "train_data = get_df(rule2rule_id, df_train)\n",
    "train_data.head()"
   ]
  },
  {
   "cell_type": "markdown",
   "metadata": {},
   "source": [
    "### Get the Dev and Test data\n",
    "\n",
    "Just as for the train data, we need a Dataframe with a sample, its corresponding rules, and the rule IDs. Moreover, we need to add the labels and the label IDs that we obtained earlier when reading the test data. We do this by merging the new Dataframe with sample, rule, and rule encoding only with the development and test Dataframes that contain the labels."
   ]
  },
  {
   "cell_type": "code",
   "execution_count": 22,
   "metadata": {},
   "outputs": [],
   "source": [
    "def get_dev_test_df(rule2rule_id: Dict, data: pd.DataFrame, label_id2label: Dict) -> pd.DataFrame:\n",
    "\n",
    "    test_data_without_labels = get_df(rule2rule_id, data)\n",
    "    test_data = test_data_without_labels.merge(data, how='inner').rename(columns={\"label\": \"enc_labels\"})\n",
    "    test_data[\"labels\"] = test_data['enc_labels'].map(label_id2label)\n",
    "    \n",
    "    return test_data"
   ]
  },
  {
   "cell_type": "code",
   "execution_count": 23,
   "metadata": {},
   "outputs": [
    {
     "name": "stderr",
     "output_type": "stream",
     "text": [
      "100%|███████████████████████████████████████████████████████████████████████████| 20669/20669 [00:34<00:00, 599.02it/s]\n"
     ]
    }
   ],
   "source": [
    "dev_data = get_dev_test_df(rule2rule_id, df_dev, label_id2label)"
   ]
  },
  {
   "cell_type": "code",
   "execution_count": 24,
   "metadata": {},
   "outputs": [
    {
     "name": "stderr",
     "output_type": "stream",
     "text": [
      "100%|███████████████████████████████████████████████████████████████████████████| 48193/48193 [01:10<00:00, 681.00it/s]\n"
     ]
    },
    {
     "data": {
      "text/html": [
       "<div>\n",
       "<style scoped>\n",
       "    .dataframe tbody tr th:only-of-type {\n",
       "        vertical-align: middle;\n",
       "    }\n",
       "\n",
       "    .dataframe tbody tr th {\n",
       "        vertical-align: top;\n",
       "    }\n",
       "\n",
       "    .dataframe thead th {\n",
       "        text-align: right;\n",
       "    }\n",
       "</style>\n",
       "<table border=\"1\" class=\"dataframe\">\n",
       "  <thead>\n",
       "    <tr style=\"text-align: right;\">\n",
       "      <th></th>\n",
       "      <th>index</th>\n",
       "      <th>samples</th>\n",
       "      <th>rules</th>\n",
       "      <th>enc_rules</th>\n",
       "      <th>enc_labels</th>\n",
       "      <th>labels</th>\n",
       "    </tr>\n",
       "  </thead>\n",
       "  <tbody>\n",
       "    <tr>\n",
       "      <th>0</th>\n",
       "      <td>0</td>\n",
       "      <td>[ ] TARGET / Chicago Tribune Lake County Major...</td>\n",
       "      <td>[police shooting]</td>\n",
       "      <td>[9]</td>\n",
       "      <td>0</td>\n",
       "      <td>negative</td>\n",
       "    </tr>\n",
       "    <tr>\n",
       "      <th>1</th>\n",
       "      <td>1</td>\n",
       "      <td>Round Lake police shooting Round Lake police s...</td>\n",
       "      <td>[police shooting]</td>\n",
       "      <td>[9]</td>\n",
       "      <td>0</td>\n",
       "      <td>negative</td>\n",
       "    </tr>\n",
       "    <tr>\n",
       "      <th>2</th>\n",
       "      <td>2</td>\n",
       "      <td>PERSON shooting PERSON shooting TARGET / Chica...</td>\n",
       "      <td>[police shooting]</td>\n",
       "      <td>[9]</td>\n",
       "      <td>0</td>\n",
       "      <td>negative</td>\n",
       "    </tr>\n",
       "    <tr>\n",
       "      <th>3</th>\n",
       "      <td>3</td>\n",
       "      <td>Scene of Round Lake police shooting Scene of R...</td>\n",
       "      <td>[police shooting]</td>\n",
       "      <td>[9]</td>\n",
       "      <td>0</td>\n",
       "      <td>negative</td>\n",
       "    </tr>\n",
       "    <tr>\n",
       "      <th>4</th>\n",
       "      <td>4</td>\n",
       "      <td>involved shooting TARGET / Chicago Tribune The...</td>\n",
       "      <td>[officer killed, officer shooting]</td>\n",
       "      <td>[24, 29]</td>\n",
       "      <td>0</td>\n",
       "      <td>negative</td>\n",
       "    </tr>\n",
       "  </tbody>\n",
       "</table>\n",
       "</div>"
      ],
      "text/plain": [
       "   index                                            samples  \\\n",
       "0      0  [ ] TARGET / Chicago Tribune Lake County Major...   \n",
       "1      1  Round Lake police shooting Round Lake police s...   \n",
       "2      2  PERSON shooting PERSON shooting TARGET / Chica...   \n",
       "3      3  Scene of Round Lake police shooting Scene of R...   \n",
       "4      4  involved shooting TARGET / Chicago Tribune The...   \n",
       "\n",
       "                                rules enc_rules  enc_labels    labels  \n",
       "0                   [police shooting]       [9]           0  negative  \n",
       "1                   [police shooting]       [9]           0  negative  \n",
       "2                   [police shooting]       [9]           0  negative  \n",
       "3                   [police shooting]       [9]           0  negative  \n",
       "4  [officer killed, officer shooting]  [24, 29]           0  negative  "
      ]
     },
     "execution_count": 24,
     "metadata": {},
     "output_type": "execute_result"
    }
   ],
   "source": [
    "test_data = get_dev_test_df(rule2rule_id, df_test, label_id2label)\n",
    "test_data.head()"
   ]
  },
  {
   "cell_type": "markdown",
   "metadata": {},
   "source": [
    "### Convert Dataframes to (Sparse) Matrices\n",
    "\n",
    "The train, test, and development data that we just stored as Pandas Dataframes should now be converted into a Scipy sparse matrix. The rows of the sparse matrix are the samples and the columns are the rules (i.e., a cell is 1 if the corresponding rule matches the corresponding sample, 0 otherwise). We initialize it as an array in the correct size (samples x rules), fill it with 1s and 0s, and convert it to a sparse matrix at the end."
   ]
  },
  {
   "cell_type": "code",
   "execution_count": 25,
   "metadata": {},
   "outputs": [],
   "source": [
    "def get_rule_matches_z_matrix(df: pd.DataFrame) -> sp.csr_matrix:\n",
    "\n",
    "    z_array = np.zeros((len(df[\"index\"].values), len(rule2rule_id)))\n",
    "\n",
    "    for index in tqdm(df[\"index\"]):\n",
    "        enc_rules = df.iloc[index-1]['enc_rules']\n",
    "        for enc_rule in enc_rules:\n",
    "            z_array[index][enc_rule] = 1\n",
    "\n",
    "    rule_matches_z_matrix_sparse = sp.csr_matrix(z_array)\n",
    "\n",
    "    return rule_matches_z_matrix_sparse"
   ]
  },
  {
   "cell_type": "code",
   "execution_count": 26,
   "metadata": {},
   "outputs": [
    {
     "name": "stderr",
     "output_type": "stream",
     "text": [
      "100%|████████████████████████████████████████████████████████████████████████| 132680/132680 [00:51<00:00, 2554.24it/s]\n"
     ]
    }
   ],
   "source": [
    "train_rule_matches_z = get_rule_matches_z_matrix(train_data)"
   ]
  },
  {
   "cell_type": "code",
   "execution_count": 27,
   "metadata": {},
   "outputs": [
    {
     "name": "stderr",
     "output_type": "stream",
     "text": [
      "100%|██████████████████████████████████████████████████████████████████████████| 20678/20678 [00:08<00:00, 2558.56it/s]\n"
     ]
    }
   ],
   "source": [
    "dev_rule_matches_z = get_rule_matches_z_matrix(dev_data)"
   ]
  },
  {
   "cell_type": "code",
   "execution_count": 28,
   "metadata": {},
   "outputs": [
    {
     "name": "stderr",
     "output_type": "stream",
     "text": [
      "100%|██████████████████████████████████████████████████████████████████████████| 48247/48247 [00:18<00:00, 2555.68it/s]\n"
     ]
    }
   ],
   "source": [
    "test_rule_matches_z = get_rule_matches_z_matrix(test_data)"
   ]
  },
  {
   "cell_type": "markdown",
   "metadata": {},
   "source": [
    "## Saving the files"
   ]
  },
  {
   "cell_type": "code",
   "execution_count": 29,
   "metadata": {},
   "outputs": [
    {
     "data": {
      "text/plain": [
       "['../../../data_from_minio/police_killing\\\\processed_keywords\\\\test_rule_matches_z.lib']"
      ]
     },
     "execution_count": 29,
     "metadata": {},
     "output_type": "execute_result"
    }
   ],
   "source": [
    "Path(os.path.join(data_path, \"processed_keywords\")).mkdir(parents=True, exist_ok=True)\n",
    "\n",
    "dump(sp.csr_matrix(mapping_rules_labels_t), os.path.join(data_path, \"processed_keywords\", T_MATRIX_TRAIN))\n",
    "\n",
    "dump(train_data[\"samples\"], os.path.join(data_path, \"processed_keywords\", TRAIN_SAMPLES_OUTPUT))\n",
    "train_data[\"samples\"].to_csv(os.path.join(data_path, \"processed_keywords\", TRAIN_SAMPLES_CSV), header=True)\n",
    "dump(train_rule_matches_z, os.path.join(data_path, \"processed_keywords\", Z_MATRIX_TRAIN))\n",
    "\n",
    "dump(dev_data[[\"samples\", \"labels\", \"enc_labels\"]], os.path.join(data_path, \"processed_keywords\", DEV_SAMPLES_OUTPUT))\n",
    "dev_data[[\"samples\", \"labels\", \"enc_labels\"]].to_csv(os.path.join(data_path, \"processed_keywords\", DEV_SAMPLES_CSV), header=True)\n",
    "dump(dev_rule_matches_z, os.path.join(data_path, \"processed_keywords\", Z_MATRIX_DEV))\n",
    "\n",
    "dump(test_data[[\"samples\", \"labels\", \"enc_labels\"]], os.path.join(data_path, \"processed_keywords\", TEST_SAMPLES_OUTPUT))\n",
    "test_data[[\"samples\", \"labels\", \"enc_labels\"]].to_csv(os.path.join(data_path, \"processed_keywords\", TEST_SAMPLES_CSV), header=True)\n",
    "dump(test_rule_matches_z, os.path.join(data_path, \"processed_keywords\", Z_MATRIX_TEST))"
   ]
  },
  {
   "cell_type": "markdown",
   "metadata": {},
   "source": [
    "## Rule Accuracy and some statistics\n",
    "\n",
    "For the rule accuracy, we will compare the weak labels of the test data to the gold labels to check how reliable the rules are. "
   ]
  },
  {
   "cell_type": "code",
   "execution_count": 30,
   "metadata": {},
   "outputs": [],
   "source": [
    "positive_test_samples = test_data[test_data.enc_labels == 1].shape[0]\n",
    "negative_test_samples = test_data[test_data.enc_labels == 0].shape[0]"
   ]
  },
  {
   "cell_type": "code",
   "execution_count": 31,
   "metadata": {},
   "outputs": [
    {
     "name": "stderr",
     "output_type": "stream",
     "text": [
      "100%|██████████████████████████████████████████████████████████████████████████| 48247/48247 [00:05<00:00, 8113.10it/s]\n"
     ]
    }
   ],
   "source": [
    "true_positive = 0\n",
    "true_negative = 0\n",
    "false_positive = 0\n",
    "false_negative = 0\n",
    "matched_instances = test_data[\"enc_rules\"].str.len() != 0\n",
    "\n",
    "for row in tqdm(range(test_data.shape[0])):\n",
    "    if test_data.loc[row][\"enc_labels\"] == 1: #the true label is 1\n",
    "        if matched_instances[row]: #the predicted label is 1\n",
    "            true_positive += 1\n",
    "        else: #the predicted label is 0\n",
    "            false_negative += 1\n",
    "    else: #the true label is 0\n",
    "        if matched_instances[row]: #the predicted label is 1\n",
    "            false_positive += 1\n",
    "        else: #the predicted label is 0\n",
    "            true_negative += 1\n",
    "                 \n",
    "true_positive_percent = (100 / positive_test_samples) * true_positive\n",
    "true_negative_percent = (100 / negative_test_samples) * true_negative"
   ]
  },
  {
   "cell_type": "code",
   "execution_count": 32,
   "metadata": {},
   "outputs": [
    {
     "name": "stdout",
     "output_type": "stream",
     "text": [
      "Out of 48247 samples in the testdata, 8878 samples are positive and 39369 are negative.\n",
      "\n",
      "By using only the rules to obtain weak labels, 99.98873620184726% of all positive samples are matched by a rule and therefore labeled as positive. 0.02032055678325586% of all negative samples are correctly classified as negative.\n",
      "\n",
      "True positives: 8877 \n",
      "True negatives: 8 \n",
      "False positives: 39361 \n",
      "False negatives: 1\n"
     ]
    }
   ],
   "source": [
    "print(f\"Out of {test_data.shape[0]} samples in the testdata, {positive_test_samples} samples are positive and {negative_test_samples} are negative.\\n\") \n",
    "print(f\"By using only the rules to obtain weak labels, {true_positive_percent}% of all positive samples are matched by a rule and therefore labeled as positive. {true_negative_percent}% of all negative samples are correctly classified as negative.\\n\") \n",
    "print(f\"True positives: {true_positive} \\nTrue negatives: {true_negative} \\nFalse positives: {false_positive} \\nFalse negatives: {false_negative}\")"
   ]
  },
  {
   "cell_type": "markdown",
   "metadata": {},
   "source": [
    "## Finish\n",
    "\n",
    "The samples in the datasets were extracted from an original news paper corpus based on the keywords in our keywords table. Therefore, it makes sense that most samples in the test set, whether their gold label is positive or not,  are covered by a rule consisting in exactly these keywords. Our rule accuracy is very high and with only one exception, all positive instances are matched by rule. However, almost all negative instances are matched, too. In the next step, the dataset will require denoising."
   ]
  }
 ],
 "metadata": {
  "kernelspec": {
   "display_name": "Python 3",
   "language": "python",
   "name": "python3"
  },
  "language_info": {
   "codemirror_mode": {
    "name": "ipython",
    "version": 3
   },
   "file_extension": ".py",
   "mimetype": "text/x-python",
   "name": "python",
   "nbconvert_exporter": "python",
   "pygments_lexer": "ipython3",
   "version": "3.8.5"
  }
 },
 "nbformat": 4,
 "nbformat_minor": 4
}
