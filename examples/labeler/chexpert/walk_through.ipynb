{
 "cells": [
  {
   "cell_type": "markdown",
   "metadata": {
    "collapsed": true,
    "pycharm": {
     "name": "#%% md\n"
    }
   },
   "source": [
    "# How to use the CheXpert labeler\n",
    "This notebook's purpose is to illustrate how the adjusted CheXpert labeler is to be used.\n",
    "The original code can be found [here](https://github.com/stanfordmlgroup/chexpert-labeler) and the corresponding paper [here](https://arxiv.org/abs/1901.07031) (Irvin et al., 2019)."
   ]
  },
  {
   "cell_type": "markdown",
   "source": [
    "First, the data for the matches, the patterns and the sample_report need to be downloaded from Minio."
   ],
   "metadata": {
    "collapsed": false,
    "pycharm": {
     "name": "#%% md\n"
    }
   }
  },
  {
   "cell_type": "code",
   "execution_count": null,
   "outputs": [],
   "source": [
    "# client to access the dataset collection\n",
    "from minio import Minio\n",
    "client = Minio(\"knodle.dm.univie.ac.at\", secure=False)\n",
    "\n",
    "# define path to the folder where the data will be stored\n",
    "data_path = \"https://knodle.dm.univie.ac.at/minio/knodle/examples/labeler/chexpert/\""
   ],
   "metadata": {
    "collapsed": false,
    "pycharm": {
     "name": "#%%\n"
    }
   }
  }
 ],
 "metadata": {
  "kernelspec": {
   "display_name": "Python 3",
   "language": "python",
   "name": "python3"
  },
  "language_info": {
   "codemirror_mode": {
    "name": "ipython",
    "version": 2
   },
   "file_extension": ".py",
   "mimetype": "text/x-python",
   "name": "python",
   "nbconvert_exporter": "python",
   "pygments_lexer": "ipython2",
   "version": "2.7.6"
  }
 },
 "nbformat": 4,
 "nbformat_minor": 0
}